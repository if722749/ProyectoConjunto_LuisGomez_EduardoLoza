{
 "cells": [
  {
   "cell_type": "markdown",
   "metadata": {},
   "source": [
    "<img style=\"float: left; margin: 30px 15px 15px 15px;\" src=\"https://pngimage.net/wp-content/uploads/2018/06/logo-iteso-png-5.png\" width=\"300\" height=\"500\" /> \n",
    "    \n",
    "    \n",
    "### <font color='navy'> Simulación de procesos financieros. \n",
    "\n",
    "**Nombres:** \n",
    " - Luis Felipe Gómez Estrada   \n",
    " - Eduardo Loza de la Torre  \n",
    "**Fecha:** 22 de febrero del 2021.\n",
    "\n",
    "**Expediente** : IF722749. \n",
    "**Expediente** :   \n",
    "**Profesor:** Oscar David Jaramillo Zuluaga.\n",
    "\n",
    "# Tarea 11: Clase 24\n"
   ]
  },
  {
   "cell_type": "markdown",
   "metadata": {},
   "source": [
    "# Tarea\n",
    "Realizar la valuación de las opciones barrera para las acciones de Microsoft, siguiendo los siguientes lineamientos:\n",
    "1. Realizar la valuación para el tipo de opción barrera 'CALL'- down-and-out, usando la suposición de rendimientos normales y usando el método del histograma. Para ambas valuaciones, comparar los resultados de la evaluación obtenida con los resultados obtenidos por la valuación Europea. Como se realizó en clase.\n",
    "2. Repetir el inciso anterior pero en esta ocasión para el caso de 'PUT'- Up-and-out.\n",
    "\n",
    "**Nota:** Analice los datos descargados y según el método ya sea `down-and-out` o `Up-and-out` defina un strike price usando la volatility smile vista en la clase de opciones europeas y basado en el spot price y el strike defina una barrera adecuada.\n",
    "\n",
    "Se habilitará un enlace en canvas para subir un cuaderno de python, con la solución.\n",
    "\n",
    "**Criterio de revisión.**\n",
    "\n",
    "> Se te calificará de acuerdo a los resultados finales que reportes, basados en tu análisis."
   ]
  },
  {
   "cell_type": "markdown",
   "metadata": {},
   "source": [
    "## Luis Felipe Gómez Estrada"
   ]
  },
  {
   "cell_type": "code",
   "execution_count": 136,
   "metadata": {},
   "outputs": [],
   "source": [
    "import numpy as np\n",
    "import pandas as pd\n",
    "from matplotlib import pyplot as plt\n",
    "from scipy import stats as st\n",
    "from datetime import date\n",
    "from pandas_datareader import data as web"
   ]
  },
  {
   "cell_type": "code",
   "execution_count": 137,
   "metadata": {},
   "outputs": [],
   "source": [
    "# Función para descargar precios de cierre ajustados:\n",
    "def get_adj_closes(tickers, start_date=None, end_date=None):\n",
    "    # Fecha inicio por defecto (start_date='2010-01-01') y fecha fin por defecto (end_date=today)\n",
    "    # Descargamos DataFrame con todos los datos\n",
    "    closes = web.DataReader(name=tickers, data_source='yahoo', start=start_date, end=end_date)\n",
    "    # Solo necesitamos los precios ajustados en el cierre\n",
    "    closes = closes['Adj Close']\n",
    "    # Se ordenan los índices de manera ascendente\n",
    "    closes.sort_index(inplace=True)\n",
    "    return closes\n",
    "\n",
    "####### Calculation of log-returns\n",
    "def calc_daily_ret(closes):\n",
    "    return np.log(closes/closes.shift(1)).dropna()"
   ]
  },
  {
   "cell_type": "code",
   "execution_count": 138,
   "metadata": {},
   "outputs": [
    {
     "data": {
      "text/plain": [
       "Date\n",
       "2017-01-03     58.538418\n",
       "2017-01-04     58.276497\n",
       "2017-01-05     58.276497\n",
       "2017-01-06     58.781628\n",
       "2017-01-09     58.594547\n",
       "                 ...    \n",
       "2021-05-03    251.860001\n",
       "2021-05-04    247.789993\n",
       "2021-05-05    246.470001\n",
       "2021-05-06    249.729996\n",
       "2021-05-07    253.225006\n",
       "Name: MSFT, Length: 1094, dtype: float64"
      ]
     },
     "execution_count": 138,
     "metadata": {},
     "output_type": "execute_result"
    }
   ],
   "source": [
    "closes = get_adj_closes(['MSFT'], '2017-01-01')\n",
    "closes_msft = closes.loc[:,'MSFT']\n",
    "closes_msft"
   ]
  },
  {
   "cell_type": "code",
   "execution_count": 139,
   "metadata": {},
   "outputs": [
    {
     "data": {
      "image/png": "[encoded data removed]",
      "text/plain": [
       "<Figure size 864x432 with 1 Axes>"
      ]
     },
     "metadata": {
      "needs_background": "light"
     },
     "output_type": "display_data"
    }
   ],
   "source": [
    "closes_msft.plot(figsize=(12,6));"
   ]
  },
  {
   "cell_type": "code",
   "execution_count": 140,
   "metadata": {},
   "outputs": [
    {
     "data": {
      "text/plain": [
       "253.22500610351562"
      ]
     },
     "execution_count": 140,
     "metadata": {},
     "output_type": "execute_result"
    }
   ],
   "source": [
    "closes_msft[-1]"
   ]
  },
  {
   "cell_type": "code",
   "execution_count": 141,
   "metadata": {},
   "outputs": [],
   "source": [
    "ret_msft = calc_daily_ret(closes_msft)"
   ]
  },
  {
   "cell_type": "code",
   "execution_count": 142,
   "metadata": {
    "scrolled": true
   },
   "outputs": [
    {
     "data": {
      "text/html": [
       "<div>\n",
       "<style scoped>\n",
       "    .dataframe tbody tr th:only-of-type {\n",
       "        vertical-align: middle;\n",
       "    }\n",
       "\n",
       "    .dataframe tbody tr th {\n",
       "        vertical-align: top;\n",
       "    }\n",
       "\n",
       "    .dataframe thead th {\n",
       "        text-align: right;\n",
       "    }\n",
       "</style>\n",
       "<table border=\"1\" class=\"dataframe\">\n",
       "  <thead>\n",
       "    <tr style=\"text-align: right;\">\n",
       "      <th></th>\n",
       "      <th>Strike</th>\n",
       "      <th>Type</th>\n",
       "      <th>Symbol</th>\n",
       "      <th>Last</th>\n",
       "      <th>Bid</th>\n",
       "      <th>Ask</th>\n",
       "      <th>Chg</th>\n",
       "      <th>PctChg</th>\n",
       "      <th>Vol</th>\n",
       "      <th>Open_Int</th>\n",
       "      <th>IV</th>\n",
       "      <th>Root</th>\n",
       "      <th>IsNonstandard</th>\n",
       "      <th>Underlying</th>\n",
       "      <th>Underlying_Price</th>\n",
       "      <th>Quote_Time</th>\n",
       "      <th>Last_Trade_Date</th>\n",
       "      <th>JSON</th>\n",
       "    </tr>\n",
       "    <tr>\n",
       "      <th>Expiry</th>\n",
       "      <th></th>\n",
       "      <th></th>\n",
       "      <th></th>\n",
       "      <th></th>\n",
       "      <th></th>\n",
       "      <th></th>\n",
       "      <th></th>\n",
       "      <th></th>\n",
       "      <th></th>\n",
       "      <th></th>\n",
       "      <th></th>\n",
       "      <th></th>\n",
       "      <th></th>\n",
       "      <th></th>\n",
       "      <th></th>\n",
       "      <th></th>\n",
       "      <th></th>\n",
       "      <th></th>\n",
       "    </tr>\n",
       "  </thead>\n",
       "  <tbody>\n",
       "    <tr>\n",
       "      <th>2021-05-07</th>\n",
       "      <td>200.0</td>\n",
       "      <td>call</td>\n",
       "      <td>MSFT210507C00200000</td>\n",
       "      <td>46.42</td>\n",
       "      <td>52.80</td>\n",
       "      <td>53.20</td>\n",
       "      <td>0.00</td>\n",
       "      <td>0.000000</td>\n",
       "      <td>1.0</td>\n",
       "      <td>54.0</td>\n",
       "      <td>0.000010</td>\n",
       "      <td>MSFT</td>\n",
       "      <td>False</td>\n",
       "      <td>MSFT</td>\n",
       "      <td>253.2300</td>\n",
       "      <td>2021-05-07 14:50:09</td>\n",
       "      <td>2021-05-05 19:00:24</td>\n",
       "      <td>{'contractSymbol': 'MSFT210507C00200000', 'str...</td>\n",
       "    </tr>\n",
       "    <tr>\n",
       "      <th>2021-05-07</th>\n",
       "      <td>155.0</td>\n",
       "      <td>put</td>\n",
       "      <td>MSFT210507P00155000</td>\n",
       "      <td>0.02</td>\n",
       "      <td>0.00</td>\n",
       "      <td>0.02</td>\n",
       "      <td>0.00</td>\n",
       "      <td>0.000000</td>\n",
       "      <td>1.0</td>\n",
       "      <td>7.0</td>\n",
       "      <td>3.062502</td>\n",
       "      <td>MSFT</td>\n",
       "      <td>False</td>\n",
       "      <td>MSFT</td>\n",
       "      <td>253.2300</td>\n",
       "      <td>2021-05-07 14:50:09</td>\n",
       "      <td>2021-04-23 17:46:50</td>\n",
       "      <td>{'contractSymbol': 'MSFT210507P00155000', 'str...</td>\n",
       "    </tr>\n",
       "    <tr>\n",
       "      <th>2021-05-07</th>\n",
       "      <td>120.0</td>\n",
       "      <td>put</td>\n",
       "      <td>MSFT210507P00120000</td>\n",
       "      <td>0.01</td>\n",
       "      <td>0.00</td>\n",
       "      <td>0.01</td>\n",
       "      <td>0.00</td>\n",
       "      <td>0.000000</td>\n",
       "      <td>1.0</td>\n",
       "      <td>30.0</td>\n",
       "      <td>4.375005</td>\n",
       "      <td>MSFT</td>\n",
       "      <td>False</td>\n",
       "      <td>MSFT</td>\n",
       "      <td>253.2300</td>\n",
       "      <td>2021-05-07 14:50:09</td>\n",
       "      <td>2021-05-03 13:30:01</td>\n",
       "      <td>{'contractSymbol': 'MSFT210507P00120000', 'str...</td>\n",
       "    </tr>\n",
       "    <tr>\n",
       "      <th>2021-05-07</th>\n",
       "      <td>120.0</td>\n",
       "      <td>call</td>\n",
       "      <td>MSFT210507C00120000</td>\n",
       "      <td>129.65</td>\n",
       "      <td>133.10</td>\n",
       "      <td>133.30</td>\n",
       "      <td>0.00</td>\n",
       "      <td>0.000000</td>\n",
       "      <td>2.0</td>\n",
       "      <td>86.0</td>\n",
       "      <td>5.468753</td>\n",
       "      <td>MSFT</td>\n",
       "      <td>False</td>\n",
       "      <td>MSFT</td>\n",
       "      <td>253.2300</td>\n",
       "      <td>2021-05-07 14:50:09</td>\n",
       "      <td>2021-05-06 19:59:12</td>\n",
       "      <td>{'contractSymbol': 'MSFT210507C00120000', 'str...</td>\n",
       "    </tr>\n",
       "    <tr>\n",
       "      <th>2021-05-07</th>\n",
       "      <td>252.5</td>\n",
       "      <td>put</td>\n",
       "      <td>MSFT210507P00252500</td>\n",
       "      <td>0.34</td>\n",
       "      <td>0.36</td>\n",
       "      <td>0.39</td>\n",
       "      <td>-2.91</td>\n",
       "      <td>-89.538470</td>\n",
       "      <td>1573.0</td>\n",
       "      <td>0.0</td>\n",
       "      <td>0.131600</td>\n",
       "      <td>MSFT</td>\n",
       "      <td>False</td>\n",
       "      <td>MSFT</td>\n",
       "      <td>253.2300</td>\n",
       "      <td>2021-05-07 14:50:09</td>\n",
       "      <td>2021-05-07 14:34:29</td>\n",
       "      <td>{'contractSymbol': 'MSFT210507P00252500', 'str...</td>\n",
       "    </tr>\n",
       "    <tr>\n",
       "      <th>...</th>\n",
       "      <td>...</td>\n",
       "      <td>...</td>\n",
       "      <td>...</td>\n",
       "      <td>...</td>\n",
       "      <td>...</td>\n",
       "      <td>...</td>\n",
       "      <td>...</td>\n",
       "      <td>...</td>\n",
       "      <td>...</td>\n",
       "      <td>...</td>\n",
       "      <td>...</td>\n",
       "      <td>...</td>\n",
       "      <td>...</td>\n",
       "      <td>...</td>\n",
       "      <td>...</td>\n",
       "      <td>...</td>\n",
       "      <td>...</td>\n",
       "      <td>...</td>\n",
       "    </tr>\n",
       "    <tr>\n",
       "      <th>2023-06-16</th>\n",
       "      <td>285.0</td>\n",
       "      <td>call</td>\n",
       "      <td>MSFT230616C00285000</td>\n",
       "      <td>23.23</td>\n",
       "      <td>23.25</td>\n",
       "      <td>25.50</td>\n",
       "      <td>0.23</td>\n",
       "      <td>0.999998</td>\n",
       "      <td>1.0</td>\n",
       "      <td>112.0</td>\n",
       "      <td>0.253746</td>\n",
       "      <td>MSFT</td>\n",
       "      <td>False</td>\n",
       "      <td>MSFT</td>\n",
       "      <td>253.2685</td>\n",
       "      <td>2021-05-07 14:50:10</td>\n",
       "      <td>2021-05-07 13:40:37</td>\n",
       "      <td>{'contractSymbol': 'MSFT230616C00285000', 'str...</td>\n",
       "    </tr>\n",
       "    <tr>\n",
       "      <th>2023-06-16</th>\n",
       "      <td>285.0</td>\n",
       "      <td>put</td>\n",
       "      <td>MSFT230616P00285000</td>\n",
       "      <td>59.30</td>\n",
       "      <td>55.05</td>\n",
       "      <td>58.10</td>\n",
       "      <td>0.00</td>\n",
       "      <td>0.000000</td>\n",
       "      <td>NaN</td>\n",
       "      <td>18.0</td>\n",
       "      <td>0.260124</td>\n",
       "      <td>MSFT</td>\n",
       "      <td>False</td>\n",
       "      <td>MSFT</td>\n",
       "      <td>253.2685</td>\n",
       "      <td>2021-05-07 14:50:10</td>\n",
       "      <td>2021-04-29 19:07:08</td>\n",
       "      <td>{'contractSymbol': 'MSFT230616P00285000', 'str...</td>\n",
       "    </tr>\n",
       "    <tr>\n",
       "      <th>2023-06-16</th>\n",
       "      <td>290.0</td>\n",
       "      <td>call</td>\n",
       "      <td>MSFT230616C00290000</td>\n",
       "      <td>21.55</td>\n",
       "      <td>22.00</td>\n",
       "      <td>24.15</td>\n",
       "      <td>0.48</td>\n",
       "      <td>2.278118</td>\n",
       "      <td>15.0</td>\n",
       "      <td>165.0</td>\n",
       "      <td>0.254738</td>\n",
       "      <td>MSFT</td>\n",
       "      <td>False</td>\n",
       "      <td>MSFT</td>\n",
       "      <td>253.2685</td>\n",
       "      <td>2021-05-07 14:50:10</td>\n",
       "      <td>2021-05-07 13:40:37</td>\n",
       "      <td>{'contractSymbol': 'MSFT230616C00290000', 'str...</td>\n",
       "    </tr>\n",
       "    <tr>\n",
       "      <th>2023-06-16</th>\n",
       "      <td>295.0</td>\n",
       "      <td>call</td>\n",
       "      <td>MSFT230616C00295000</td>\n",
       "      <td>20.50</td>\n",
       "      <td>20.00</td>\n",
       "      <td>22.65</td>\n",
       "      <td>0.00</td>\n",
       "      <td>0.000000</td>\n",
       "      <td>1.0</td>\n",
       "      <td>65.0</td>\n",
       "      <td>0.254158</td>\n",
       "      <td>MSFT</td>\n",
       "      <td>False</td>\n",
       "      <td>MSFT</td>\n",
       "      <td>253.2685</td>\n",
       "      <td>2021-05-07 14:50:10</td>\n",
       "      <td>2021-05-05 17:11:28</td>\n",
       "      <td>{'contractSymbol': 'MSFT230616C00295000', 'str...</td>\n",
       "    </tr>\n",
       "    <tr>\n",
       "      <th>2023-06-16</th>\n",
       "      <td>390.0</td>\n",
       "      <td>put</td>\n",
       "      <td>MSFT230616P00390000</td>\n",
       "      <td>144.70</td>\n",
       "      <td>140.90</td>\n",
       "      <td>143.85</td>\n",
       "      <td>0.00</td>\n",
       "      <td>0.000000</td>\n",
       "      <td>4.0</td>\n",
       "      <td>0.0</td>\n",
       "      <td>0.257759</td>\n",
       "      <td>MSFT</td>\n",
       "      <td>False</td>\n",
       "      <td>MSFT</td>\n",
       "      <td>253.2685</td>\n",
       "      <td>2021-05-07 14:50:10</td>\n",
       "      <td>2021-04-30 17:09:46</td>\n",
       "      <td>{'contractSymbol': 'MSFT230616P00390000', 'str...</td>\n",
       "    </tr>\n",
       "  </tbody>\n",
       "</table>\n",
       "<p>1876 rows × 18 columns</p>\n",
       "</div>"
      ],
      "text/plain": [
       "            Strike  Type               Symbol    Last     Bid     Ask   Chg  \\\n",
       "Expiry                                                                        \n",
       "2021-05-07   200.0  call  MSFT210507C00200000   46.42   52.80   53.20  0.00   \n",
       "2021-05-07   155.0   put  MSFT210507P00155000    0.02    0.00    0.02  0.00   \n",
       "2021-05-07   120.0   put  MSFT210507P00120000    0.01    0.00    0.01  0.00   \n",
       "2021-05-07   120.0  call  MSFT210507C00120000  129.65  133.10  133.30  0.00   \n",
       "2021-05-07   252.5   put  MSFT210507P00252500    0.34    0.36    0.39 -2.91   \n",
       "...            ...   ...                  ...     ...     ...     ...   ...   \n",
       "2023-06-16   285.0  call  MSFT230616C00285000   23.23   23.25   25.50  0.23   \n",
       "2023-06-16   285.0   put  MSFT230616P00285000   59.30   55.05   58.10  0.00   \n",
       "2023-06-16   290.0  call  MSFT230616C00290000   21.55   22.00   24.15  0.48   \n",
       "2023-06-16   295.0  call  MSFT230616C00295000   20.50   20.00   22.65  0.00   \n",
       "2023-06-16   390.0   put  MSFT230616P00390000  144.70  140.90  143.85  0.00   \n",
       "\n",
       "               PctChg     Vol  Open_Int        IV  Root  IsNonstandard  \\\n",
       "Expiry                                                                   \n",
       "2021-05-07   0.000000     1.0      54.0  0.000010  MSFT          False   \n",
       "2021-05-07   0.000000     1.0       7.0  3.062502  MSFT          False   \n",
       "2021-05-07   0.000000     1.0      30.0  4.375005  MSFT          False   \n",
       "2021-05-07   0.000000     2.0      86.0  5.468753  MSFT          False   \n",
       "2021-05-07 -89.538470  1573.0       0.0  0.131600  MSFT          False   \n",
       "...               ...     ...       ...       ...   ...            ...   \n",
       "2023-06-16   0.999998     1.0     112.0  0.253746  MSFT          False   \n",
       "2023-06-16   0.000000     NaN      18.0  0.260124  MSFT          False   \n",
       "2023-06-16   2.278118    15.0     165.0  0.254738  MSFT          False   \n",
       "2023-06-16   0.000000     1.0      65.0  0.254158  MSFT          False   \n",
       "2023-06-16   0.000000     4.0       0.0  0.257759  MSFT          False   \n",
       "\n",
       "           Underlying  Underlying_Price          Quote_Time  \\\n",
       "Expiry                                                        \n",
       "2021-05-07       MSFT          253.2300 2021-05-07 14:50:09   \n",
       "2021-05-07       MSFT          253.2300 2021-05-07 14:50:09   \n",
       "2021-05-07       MSFT          253.2300 2021-05-07 14:50:09   \n",
       "2021-05-07       MSFT          253.2300 2021-05-07 14:50:09   \n",
       "2021-05-07       MSFT          253.2300 2021-05-07 14:50:09   \n",
       "...               ...               ...                 ...   \n",
       "2023-06-16       MSFT          253.2685 2021-05-07 14:50:10   \n",
       "2023-06-16       MSFT          253.2685 2021-05-07 14:50:10   \n",
       "2023-06-16       MSFT          253.2685 2021-05-07 14:50:10   \n",
       "2023-06-16       MSFT          253.2685 2021-05-07 14:50:10   \n",
       "2023-06-16       MSFT          253.2685 2021-05-07 14:50:10   \n",
       "\n",
       "               Last_Trade_Date  \\\n",
       "Expiry                           \n",
       "2021-05-07 2021-05-05 19:00:24   \n",
       "2021-05-07 2021-04-23 17:46:50   \n",
       "2021-05-07 2021-05-03 13:30:01   \n",
       "2021-05-07 2021-05-06 19:59:12   \n",
       "2021-05-07 2021-05-07 14:34:29   \n",
       "...                        ...   \n",
       "2023-06-16 2021-05-07 13:40:37   \n",
       "2023-06-16 2021-04-29 19:07:08   \n",
       "2023-06-16 2021-05-07 13:40:37   \n",
       "2023-06-16 2021-05-05 17:11:28   \n",
       "2023-06-16 2021-04-30 17:09:46   \n",
       "\n",
       "                                                         JSON  \n",
       "Expiry                                                         \n",
       "2021-05-07  {'contractSymbol': 'MSFT210507C00200000', 'str...  \n",
       "2021-05-07  {'contractSymbol': 'MSFT210507P00155000', 'str...  \n",
       "2021-05-07  {'contractSymbol': 'MSFT210507P00120000', 'str...  \n",
       "2021-05-07  {'contractSymbol': 'MSFT210507C00120000', 'str...  \n",
       "2021-05-07  {'contractSymbol': 'MSFT210507P00252500', 'str...  \n",
       "...                                                       ...  \n",
       "2023-06-16  {'contractSymbol': 'MSFT230616C00285000', 'str...  \n",
       "2023-06-16  {'contractSymbol': 'MSFT230616P00285000', 'str...  \n",
       "2023-06-16  {'contractSymbol': 'MSFT230616C00290000', 'str...  \n",
       "2023-06-16  {'contractSymbol': 'MSFT230616C00295000', 'str...  \n",
       "2023-06-16  {'contractSymbol': 'MSFT230616P00390000', 'str...  \n",
       "\n",
       "[1876 rows x 18 columns]"
      ]
     },
     "execution_count": 142,
     "metadata": {},
     "output_type": "execute_result"
    }
   ],
   "source": [
    "pd.set_option('display.max_rows', 10)\n",
    "\n",
    "msft = web.YahooOptions('MSFT')\n",
    "msft_opt = msft.get_all_data().reset_index()\n",
    "msft_opt.set_index('Expiry').sort_index()#.head(1000)"
   ]
  },
  {
   "cell_type": "markdown",
   "metadata": {},
   "source": [
    "## OPCIÓN CALL"
   ]
  },
  {
   "cell_type": "code",
   "execution_count": 143,
   "metadata": {
    "scrolled": true
   },
   "outputs": [
    {
     "data": {
      "text/html": [
       "<div>\n",
       "<style scoped>\n",
       "    .dataframe tbody tr th:only-of-type {\n",
       "        vertical-align: middle;\n",
       "    }\n",
       "\n",
       "    .dataframe tbody tr th {\n",
       "        vertical-align: top;\n",
       "    }\n",
       "\n",
       "    .dataframe thead th {\n",
       "        text-align: right;\n",
       "    }\n",
       "</style>\n",
       "<table border=\"1\" class=\"dataframe\">\n",
       "  <thead>\n",
       "    <tr style=\"text-align: right;\">\n",
       "      <th></th>\n",
       "      <th>Strike</th>\n",
       "      <th>Expiry</th>\n",
       "      <th>Type</th>\n",
       "      <th>Symbol</th>\n",
       "      <th>Last</th>\n",
       "      <th>Bid</th>\n",
       "      <th>Ask</th>\n",
       "      <th>Chg</th>\n",
       "      <th>PctChg</th>\n",
       "      <th>Vol</th>\n",
       "      <th>Open_Int</th>\n",
       "      <th>IV</th>\n",
       "      <th>Root</th>\n",
       "      <th>IsNonstandard</th>\n",
       "      <th>Underlying</th>\n",
       "      <th>Underlying_Price</th>\n",
       "      <th>Quote_Time</th>\n",
       "      <th>Last_Trade_Date</th>\n",
       "      <th>JSON</th>\n",
       "    </tr>\n",
       "  </thead>\n",
       "  <tbody>\n",
       "    <tr>\n",
       "      <th>16</th>\n",
       "      <td>80.0</td>\n",
       "      <td>2022-06-17</td>\n",
       "      <td>call</td>\n",
       "      <td>MSFT220617C00080000</td>\n",
       "      <td>178.22</td>\n",
       "      <td>172.85</td>\n",
       "      <td>173.75</td>\n",
       "      <td>0.0</td>\n",
       "      <td>0.0</td>\n",
       "      <td>3.0</td>\n",
       "      <td>85.0</td>\n",
       "      <td>0.516851</td>\n",
       "      <td>MSFT</td>\n",
       "      <td>False</td>\n",
       "      <td>MSFT</td>\n",
       "      <td>253.2685</td>\n",
       "      <td>2021-05-07 14:50:10</td>\n",
       "      <td>2021-04-13 17:46:55</td>\n",
       "      <td>{'contractSymbol': 'MSFT220617C00080000', 'str...</td>\n",
       "    </tr>\n",
       "    <tr>\n",
       "      <th>26</th>\n",
       "      <td>85.0</td>\n",
       "      <td>2022-06-17</td>\n",
       "      <td>call</td>\n",
       "      <td>MSFT220617C00085000</td>\n",
       "      <td>104.29</td>\n",
       "      <td>0.00</td>\n",
       "      <td>0.00</td>\n",
       "      <td>0.0</td>\n",
       "      <td>0.0</td>\n",
       "      <td>3.0</td>\n",
       "      <td>3.0</td>\n",
       "      <td>0.000010</td>\n",
       "      <td>MSFT</td>\n",
       "      <td>False</td>\n",
       "      <td>MSFT</td>\n",
       "      <td>253.2685</td>\n",
       "      <td>2021-05-07 14:50:10</td>\n",
       "      <td>2020-07-09 20:58:18</td>\n",
       "      <td>{'contractSymbol': 'MSFT220617C00085000', 'str...</td>\n",
       "    </tr>\n",
       "    <tr>\n",
       "      <th>36</th>\n",
       "      <td>90.0</td>\n",
       "      <td>2022-06-17</td>\n",
       "      <td>call</td>\n",
       "      <td>MSFT220617C00090000</td>\n",
       "      <td>162.80</td>\n",
       "      <td>162.90</td>\n",
       "      <td>163.65</td>\n",
       "      <td>0.0</td>\n",
       "      <td>0.0</td>\n",
       "      <td>1.0</td>\n",
       "      <td>4.0</td>\n",
       "      <td>0.451177</td>\n",
       "      <td>MSFT</td>\n",
       "      <td>False</td>\n",
       "      <td>MSFT</td>\n",
       "      <td>253.2685</td>\n",
       "      <td>2021-05-07 14:50:10</td>\n",
       "      <td>2021-05-03 15:11:00</td>\n",
       "      <td>{'contractSymbol': 'MSFT220617C00090000', 'str...</td>\n",
       "    </tr>\n",
       "    <tr>\n",
       "      <th>46</th>\n",
       "      <td>95.0</td>\n",
       "      <td>2022-06-17</td>\n",
       "      <td>call</td>\n",
       "      <td>MSFT220617C00095000</td>\n",
       "      <td>113.35</td>\n",
       "      <td>106.00</td>\n",
       "      <td>111.00</td>\n",
       "      <td>0.0</td>\n",
       "      <td>0.0</td>\n",
       "      <td>5.0</td>\n",
       "      <td>19.0</td>\n",
       "      <td>0.000010</td>\n",
       "      <td>MSFT</td>\n",
       "      <td>False</td>\n",
       "      <td>MSFT</td>\n",
       "      <td>253.2685</td>\n",
       "      <td>2021-05-07 14:50:10</td>\n",
       "      <td>2020-10-02 15:54:24</td>\n",
       "      <td>{'contractSymbol': 'MSFT220617C00095000', 'str...</td>\n",
       "    </tr>\n",
       "    <tr>\n",
       "      <th>58</th>\n",
       "      <td>100.0</td>\n",
       "      <td>2022-06-17</td>\n",
       "      <td>call</td>\n",
       "      <td>MSFT220617C00100000</td>\n",
       "      <td>160.50</td>\n",
       "      <td>152.90</td>\n",
       "      <td>153.80</td>\n",
       "      <td>0.0</td>\n",
       "      <td>0.0</td>\n",
       "      <td>1.0</td>\n",
       "      <td>128.0</td>\n",
       "      <td>0.428717</td>\n",
       "      <td>MSFT</td>\n",
       "      <td>False</td>\n",
       "      <td>MSFT</td>\n",
       "      <td>253.2685</td>\n",
       "      <td>2021-05-07 14:50:10</td>\n",
       "      <td>2021-04-22 15:24:35</td>\n",
       "      <td>{'contractSymbol': 'MSFT220617C00100000', 'str...</td>\n",
       "    </tr>\n",
       "    <tr>\n",
       "      <th>...</th>\n",
       "      <td>...</td>\n",
       "      <td>...</td>\n",
       "      <td>...</td>\n",
       "      <td>...</td>\n",
       "      <td>...</td>\n",
       "      <td>...</td>\n",
       "      <td>...</td>\n",
       "      <td>...</td>\n",
       "      <td>...</td>\n",
       "      <td>...</td>\n",
       "      <td>...</td>\n",
       "      <td>...</td>\n",
       "      <td>...</td>\n",
       "      <td>...</td>\n",
       "      <td>...</td>\n",
       "      <td>...</td>\n",
       "      <td>...</td>\n",
       "      <td>...</td>\n",
       "      <td>...</td>\n",
       "    </tr>\n",
       "    <tr>\n",
       "      <th>1798</th>\n",
       "      <td>365.0</td>\n",
       "      <td>2022-06-17</td>\n",
       "      <td>call</td>\n",
       "      <td>MSFT220617C00365000</td>\n",
       "      <td>2.92</td>\n",
       "      <td>2.69</td>\n",
       "      <td>2.99</td>\n",
       "      <td>0.0</td>\n",
       "      <td>0.0</td>\n",
       "      <td>2.0</td>\n",
       "      <td>327.0</td>\n",
       "      <td>0.249153</td>\n",
       "      <td>MSFT</td>\n",
       "      <td>False</td>\n",
       "      <td>MSFT</td>\n",
       "      <td>253.2685</td>\n",
       "      <td>2021-05-07 14:50:10</td>\n",
       "      <td>2021-04-30 13:43:57</td>\n",
       "      <td>{'contractSymbol': 'MSFT220617C00365000', 'str...</td>\n",
       "    </tr>\n",
       "    <tr>\n",
       "      <th>1818</th>\n",
       "      <td>370.0</td>\n",
       "      <td>2022-06-17</td>\n",
       "      <td>call</td>\n",
       "      <td>MSFT220617C00370000</td>\n",
       "      <td>2.41</td>\n",
       "      <td>2.46</td>\n",
       "      <td>2.71</td>\n",
       "      <td>0.0</td>\n",
       "      <td>0.0</td>\n",
       "      <td>1.0</td>\n",
       "      <td>169.0</td>\n",
       "      <td>0.249733</td>\n",
       "      <td>MSFT</td>\n",
       "      <td>False</td>\n",
       "      <td>MSFT</td>\n",
       "      <td>253.2685</td>\n",
       "      <td>2021-05-07 14:50:10</td>\n",
       "      <td>2021-05-05 17:59:45</td>\n",
       "      <td>{'contractSymbol': 'MSFT220617C00370000', 'str...</td>\n",
       "    </tr>\n",
       "    <tr>\n",
       "      <th>1832</th>\n",
       "      <td>375.0</td>\n",
       "      <td>2022-06-17</td>\n",
       "      <td>call</td>\n",
       "      <td>MSFT220617C00375000</td>\n",
       "      <td>3.45</td>\n",
       "      <td>2.25</td>\n",
       "      <td>2.49</td>\n",
       "      <td>0.0</td>\n",
       "      <td>0.0</td>\n",
       "      <td>2.0</td>\n",
       "      <td>101.0</td>\n",
       "      <td>0.251045</td>\n",
       "      <td>MSFT</td>\n",
       "      <td>False</td>\n",
       "      <td>MSFT</td>\n",
       "      <td>253.2685</td>\n",
       "      <td>2021-05-07 14:50:10</td>\n",
       "      <td>2021-04-21 19:54:53</td>\n",
       "      <td>{'contractSymbol': 'MSFT220617C00375000', 'str...</td>\n",
       "    </tr>\n",
       "    <tr>\n",
       "      <th>1851</th>\n",
       "      <td>380.0</td>\n",
       "      <td>2022-06-17</td>\n",
       "      <td>call</td>\n",
       "      <td>MSFT220617C00380000</td>\n",
       "      <td>2.50</td>\n",
       "      <td>2.06</td>\n",
       "      <td>2.31</td>\n",
       "      <td>0.0</td>\n",
       "      <td>0.0</td>\n",
       "      <td>3.0</td>\n",
       "      <td>225.0</td>\n",
       "      <td>0.252876</td>\n",
       "      <td>MSFT</td>\n",
       "      <td>False</td>\n",
       "      <td>MSFT</td>\n",
       "      <td>253.2685</td>\n",
       "      <td>2021-05-07 14:50:10</td>\n",
       "      <td>2021-04-28 15:42:01</td>\n",
       "      <td>{'contractSymbol': 'MSFT220617C00380000', 'str...</td>\n",
       "    </tr>\n",
       "    <tr>\n",
       "      <th>1867</th>\n",
       "      <td>390.0</td>\n",
       "      <td>2022-06-17</td>\n",
       "      <td>call</td>\n",
       "      <td>MSFT220617C00390000</td>\n",
       "      <td>1.65</td>\n",
       "      <td>1.77</td>\n",
       "      <td>1.99</td>\n",
       "      <td>0.0</td>\n",
       "      <td>0.0</td>\n",
       "      <td>15.0</td>\n",
       "      <td>48.0</td>\n",
       "      <td>0.256355</td>\n",
       "      <td>MSFT</td>\n",
       "      <td>False</td>\n",
       "      <td>MSFT</td>\n",
       "      <td>253.2685</td>\n",
       "      <td>2021-05-07 14:50:10</td>\n",
       "      <td>2021-05-06 15:34:29</td>\n",
       "      <td>{'contractSymbol': 'MSFT220617C00390000', 'str...</td>\n",
       "    </tr>\n",
       "  </tbody>\n",
       "</table>\n",
       "<p>62 rows × 19 columns</p>\n",
       "</div>"
      ],
      "text/plain": [
       "      Strike     Expiry  Type               Symbol    Last     Bid     Ask  \\\n",
       "16      80.0 2022-06-17  call  MSFT220617C00080000  178.22  172.85  173.75   \n",
       "26      85.0 2022-06-17  call  MSFT220617C00085000  104.29    0.00    0.00   \n",
       "36      90.0 2022-06-17  call  MSFT220617C00090000  162.80  162.90  163.65   \n",
       "46      95.0 2022-06-17  call  MSFT220617C00095000  113.35  106.00  111.00   \n",
       "58     100.0 2022-06-17  call  MSFT220617C00100000  160.50  152.90  153.80   \n",
       "...      ...        ...   ...                  ...     ...     ...     ...   \n",
       "1798   365.0 2022-06-17  call  MSFT220617C00365000    2.92    2.69    2.99   \n",
       "1818   370.0 2022-06-17  call  MSFT220617C00370000    2.41    2.46    2.71   \n",
       "1832   375.0 2022-06-17  call  MSFT220617C00375000    3.45    2.25    2.49   \n",
       "1851   380.0 2022-06-17  call  MSFT220617C00380000    2.50    2.06    2.31   \n",
       "1867   390.0 2022-06-17  call  MSFT220617C00390000    1.65    1.77    1.99   \n",
       "\n",
       "      Chg  PctChg   Vol  Open_Int        IV  Root  IsNonstandard Underlying  \\\n",
       "16    0.0     0.0   3.0      85.0  0.516851  MSFT          False       MSFT   \n",
       "26    0.0     0.0   3.0       3.0  0.000010  MSFT          False       MSFT   \n",
       "36    0.0     0.0   1.0       4.0  0.451177  MSFT          False       MSFT   \n",
       "46    0.0     0.0   5.0      19.0  0.000010  MSFT          False       MSFT   \n",
       "58    0.0     0.0   1.0     128.0  0.428717  MSFT          False       MSFT   \n",
       "...   ...     ...   ...       ...       ...   ...            ...        ...   \n",
       "1798  0.0     0.0   2.0     327.0  0.249153  MSFT          False       MSFT   \n",
       "1818  0.0     0.0   1.0     169.0  0.249733  MSFT          False       MSFT   \n",
       "1832  0.0     0.0   2.0     101.0  0.251045  MSFT          False       MSFT   \n",
       "1851  0.0     0.0   3.0     225.0  0.252876  MSFT          False       MSFT   \n",
       "1867  0.0     0.0  15.0      48.0  0.256355  MSFT          False       MSFT   \n",
       "\n",
       "      Underlying_Price          Quote_Time     Last_Trade_Date  \\\n",
       "16            253.2685 2021-05-07 14:50:10 2021-04-13 17:46:55   \n",
       "26            253.2685 2021-05-07 14:50:10 2020-07-09 20:58:18   \n",
       "36            253.2685 2021-05-07 14:50:10 2021-05-03 15:11:00   \n",
       "46            253.2685 2021-05-07 14:50:10 2020-10-02 15:54:24   \n",
       "58            253.2685 2021-05-07 14:50:10 2021-04-22 15:24:35   \n",
       "...                ...                 ...                 ...   \n",
       "1798          253.2685 2021-05-07 14:50:10 2021-04-30 13:43:57   \n",
       "1818          253.2685 2021-05-07 14:50:10 2021-05-05 17:59:45   \n",
       "1832          253.2685 2021-05-07 14:50:10 2021-04-21 19:54:53   \n",
       "1851          253.2685 2021-05-07 14:50:10 2021-04-28 15:42:01   \n",
       "1867          253.2685 2021-05-07 14:50:10 2021-05-06 15:34:29   \n",
       "\n",
       "                                                   JSON  \n",
       "16    {'contractSymbol': 'MSFT220617C00080000', 'str...  \n",
       "26    {'contractSymbol': 'MSFT220617C00085000', 'str...  \n",
       "36    {'contractSymbol': 'MSFT220617C00090000', 'str...  \n",
       "46    {'contractSymbol': 'MSFT220617C00095000', 'str...  \n",
       "58    {'contractSymbol': 'MSFT220617C00100000', 'str...  \n",
       "...                                                 ...  \n",
       "1798  {'contractSymbol': 'MSFT220617C00365000', 'str...  \n",
       "1818  {'contractSymbol': 'MSFT220617C00370000', 'str...  \n",
       "1832  {'contractSymbol': 'MSFT220617C00375000', 'str...  \n",
       "1851  {'contractSymbol': 'MSFT220617C00380000', 'str...  \n",
       "1867  {'contractSymbol': 'MSFT220617C00390000', 'str...  \n",
       "\n",
       "[62 rows x 19 columns]"
      ]
     },
     "execution_count": 143,
     "metadata": {},
     "output_type": "execute_result"
    }
   ],
   "source": [
    "opt_deseada = msft_opt.loc[(msft_opt.Type=='call') & (msft_opt.Expiry=='2022-06-17')]\n",
    "opt_deseada"
   ]
  },
  {
   "cell_type": "markdown",
   "metadata": {},
   "source": [
    "#### Sonrisa de Volatilidad"
   ]
  },
  {
   "cell_type": "code",
   "execution_count": 144,
   "metadata": {},
   "outputs": [
    {
     "data": {
      "image/png": "[encoded data removed]",
      "text/plain": [
       "<Figure size 864x432 with 1 Axes>"
      ]
     },
     "metadata": {
      "needs_background": "light"
     },
     "output_type": "display_data"
    }
   ],
   "source": [
    "ax = opt_deseada.set_index('Strike').loc[:, 'IV'].plot(figsize=(12,6))\n",
    "ax.axvline(opt_deseada.Underlying_Price.iloc[0], color='g');"
   ]
  },
  {
   "cell_type": "markdown",
   "metadata": {},
   "source": [
    "Buscaremos un call out of the money (con strike mayor a 250) para junio del siguiente año, porque el activo parece tener una buena tendencia alcista por lo que me hacen pensar que si llegará a romper esa barrera para las opciones down and out, además que la prima estaría relativamente barata. Tomaremos la opción con un strike de \\$260."
   ]
  },
  {
   "cell_type": "code",
   "execution_count": 145,
   "metadata": {},
   "outputs": [
    {
     "data": {
      "text/html": [
       "<div>\n",
       "<style scoped>\n",
       "    .dataframe tbody tr th:only-of-type {\n",
       "        vertical-align: middle;\n",
       "    }\n",
       "\n",
       "    .dataframe tbody tr th {\n",
       "        vertical-align: top;\n",
       "    }\n",
       "\n",
       "    .dataframe thead th {\n",
       "        text-align: right;\n",
       "    }\n",
       "</style>\n",
       "<table border=\"1\" class=\"dataframe\">\n",
       "  <thead>\n",
       "    <tr style=\"text-align: right;\">\n",
       "      <th></th>\n",
       "      <th>Strike</th>\n",
       "      <th>Expiry</th>\n",
       "      <th>Type</th>\n",
       "      <th>Symbol</th>\n",
       "      <th>Last</th>\n",
       "      <th>Bid</th>\n",
       "      <th>Ask</th>\n",
       "      <th>Chg</th>\n",
       "      <th>PctChg</th>\n",
       "      <th>Vol</th>\n",
       "      <th>Open_Int</th>\n",
       "      <th>IV</th>\n",
       "      <th>Root</th>\n",
       "      <th>IsNonstandard</th>\n",
       "      <th>Underlying</th>\n",
       "      <th>Underlying_Price</th>\n",
       "      <th>Quote_Time</th>\n",
       "      <th>Last_Trade_Date</th>\n",
       "      <th>JSON</th>\n",
       "    </tr>\n",
       "  </thead>\n",
       "  <tbody>\n",
       "    <tr>\n",
       "      <th>1144</th>\n",
       "      <td>260.0</td>\n",
       "      <td>2022-06-17</td>\n",
       "      <td>call</td>\n",
       "      <td>MSFT220617C00260000</td>\n",
       "      <td>23.29</td>\n",
       "      <td>23.1</td>\n",
       "      <td>23.65</td>\n",
       "      <td>2.530001</td>\n",
       "      <td>12.186901</td>\n",
       "      <td>10.0</td>\n",
       "      <td>0.0</td>\n",
       "      <td>0.249275</td>\n",
       "      <td>MSFT</td>\n",
       "      <td>False</td>\n",
       "      <td>MSFT</td>\n",
       "      <td>253.2685</td>\n",
       "      <td>2021-05-07 14:50:10</td>\n",
       "      <td>2021-05-07 13:31:06</td>\n",
       "      <td>{'contractSymbol': 'MSFT220617C00260000', 'str...</td>\n",
       "    </tr>\n",
       "  </tbody>\n",
       "</table>\n",
       "</div>"
      ],
      "text/plain": [
       "      Strike     Expiry  Type               Symbol   Last   Bid    Ask  \\\n",
       "1144   260.0 2022-06-17  call  MSFT220617C00260000  23.29  23.1  23.65   \n",
       "\n",
       "           Chg     PctChg   Vol  Open_Int        IV  Root  IsNonstandard  \\\n",
       "1144  2.530001  12.186901  10.0       0.0  0.249275  MSFT          False   \n",
       "\n",
       "     Underlying  Underlying_Price          Quote_Time     Last_Trade_Date  \\\n",
       "1144       MSFT          253.2685 2021-05-07 14:50:10 2021-05-07 13:31:06   \n",
       "\n",
       "                                                   JSON  \n",
       "1144  {'contractSymbol': 'MSFT220617C00260000', 'str...  "
      ]
     },
     "execution_count": 145,
     "metadata": {},
     "output_type": "execute_result"
    }
   ],
   "source": [
    "opt_deseada = msft_opt.loc[(msft_opt.Type=='call') & (msft_opt.Expiry=='2022-06-17') & (msft_opt.Strike==260)]\n",
    "opt_deseada"
   ]
  },
  {
   "cell_type": "code",
   "execution_count": 146,
   "metadata": {},
   "outputs": [
    {
     "data": {
      "text/plain": [
       "Strike                                                            260\n",
       "Expiry                                            2022-06-17 00:00:00\n",
       "Type                                                             call\n",
       "Symbol                                            MSFT220617C00260000\n",
       "Last                                                            23.29\n",
       "                                          ...                        \n",
       "Underlying                                                       MSFT\n",
       "Underlying_Price                                              253.268\n",
       "Quote_Time                                        2021-05-07 14:50:10\n",
       "Last_Trade_Date                                   2021-05-07 13:31:06\n",
       "JSON                {'contractSymbol': 'MSFT220617C00260000', 'str...\n",
       "Name: 1144, Length: 19, dtype: object"
      ]
     },
     "execution_count": 146,
     "metadata": {},
     "output_type": "execute_result"
    }
   ],
   "source": [
    "opt_valuar = opt_deseada.loc[list(opt_deseada.index)[0]]\n",
    "opt_valuar"
   ]
  },
  {
   "cell_type": "code",
   "execution_count": 147,
   "metadata": {},
   "outputs": [
    {
     "data": {
      "text/plain": [
       "{'contractSymbol': 'MSFT220617C00260000',\n",
       " 'strike': 260.0,\n",
       " 'currency': 'USD',\n",
       " 'lastPrice': 23.29,\n",
       " 'change': 2.5300007,\n",
       " 'percentChange': 12.186901,\n",
       " 'volume': 10,\n",
       " 'openInterest': 0,\n",
       " 'bid': 23.1,\n",
       " 'ask': 23.65,\n",
       " 'contractSize': 'REGULAR',\n",
       " 'expiration': 1655424000,\n",
       " 'lastTradeDate': 1620394266,\n",
       " 'impliedVolatility': 0.24927508544921873,\n",
       " 'inTheMoney': False}"
      ]
     },
     "execution_count": 147,
     "metadata": {},
     "output_type": "execute_result"
    }
   ],
   "source": [
    "opt_valuar['JSON']"
   ]
  },
  {
   "cell_type": "markdown",
   "metadata": {},
   "source": [
    "### Opción Europea"
   ]
  },
  {
   "cell_type": "markdown",
   "metadata": {},
   "source": [
    "#### Simulación de precios con modelo normal de rendimientos"
   ]
  },
  {
   "cell_type": "code",
   "execution_count": 148,
   "metadata": {},
   "outputs": [
    {
     "data": {
      "text/plain": [
       "(0.0013399773029961533, 0.017974828814643663, 1.388888888888889e-06)"
      ]
     },
     "execution_count": 148,
     "metadata": {},
     "output_type": "execute_result"
    }
   ],
   "source": [
    "mu = ret_msft.mean()\n",
    "sigma = ret_msft.std()\n",
    "r = (0.05/100)/360\n",
    "mu, sigma, r"
   ]
  },
  {
   "cell_type": "code",
   "execution_count": 149,
   "metadata": {},
   "outputs": [
    {
     "data": {
      "image/png": "[encoded data removed]",
      "text/plain": [
       "<Figure size 864x432 with 1 Axes>"
      ]
     },
     "metadata": {
      "needs_background": "light"
     },
     "output_type": "display_data"
    }
   ],
   "source": [
    "# Datos de la opción y del día de actual\n",
    "today = pd.Timestamp(date.today())\n",
    "expiry = opt_valuar.Expiry\n",
    "\n",
    "# Fechas desde el día de hoy hasta la fecha de cierre del contrato (considerando unicamente los días hábiles)\n",
    "dates = pd.date_range(start=today, end=expiry, freq='B')\n",
    "\n",
    "# Cantidad de escenarios a simular para el método de montecarlo\n",
    "ndays = len(dates)\n",
    "nscen = 10000\n",
    "\n",
    "K = opt_valuar.Strike\n",
    "S0 = closes_msft.iloc[-1]\n",
    "sim_ret = pd.DataFrame(sigma*np.random.randn(ndays,nscen)+r,index=dates)\n",
    "sim_closes = S0*np.exp(sim_ret.cumsum())\n",
    "\n",
    "strike = K\n",
    "call_nr=pd.DataFrame({'Prima':np.exp(-r*ndays)*np.fmax(sim_closes - strike, 0).mean(axis=1)}, index=dates)\n",
    "call_nr.plot(figsize=(12,6), title='Prima Opción Europea (Call)');"
   ]
  },
  {
   "cell_type": "code",
   "execution_count": 150,
   "metadata": {},
   "outputs": [
    {
     "data": {
      "text/plain": [
       "Prima    34.634282\n",
       "Name: 2022-06-17 00:00:00, dtype: float64"
      ]
     },
     "execution_count": 150,
     "metadata": {},
     "output_type": "execute_result"
    }
   ],
   "source": [
    "call_nr.iloc[-1]"
   ]
  },
  {
   "cell_type": "code",
   "execution_count": 151,
   "metadata": {},
   "outputs": [
    {
     "name": "stdout",
     "output_type": "stream",
     "text": [
      "(33.03462421417095, 36.23393887931316)\n"
     ]
    }
   ],
   "source": [
    "confianza = 0.95\n",
    "sigma_est = sim_closes.iloc[-1].sem()\n",
    "mean_est = call_nr.iloc[-1].Prima\n",
    "i1 = st.norm.interval(confianza, loc=mean_est, scale=sigma_est)\n",
    "print(i1)"
   ]
  },
  {
   "cell_type": "code",
   "execution_count": 152,
   "metadata": {},
   "outputs": [
    {
     "data": {
      "text/plain": [
       "{'contractSymbol': 'MSFT220617C00260000',\n",
       " 'strike': 260.0,\n",
       " 'currency': 'USD',\n",
       " 'lastPrice': 23.29,\n",
       " 'change': 2.5300007,\n",
       " 'percentChange': 12.186901,\n",
       " 'volume': 10,\n",
       " 'openInterest': 0,\n",
       " 'bid': 23.1,\n",
       " 'ask': 23.65,\n",
       " 'contractSize': 'REGULAR',\n",
       " 'expiration': 1655424000,\n",
       " 'lastTradeDate': 1620394266,\n",
       " 'impliedVolatility': 0.24927508544921873,\n",
       " 'inTheMoney': False}"
      ]
     },
     "execution_count": 152,
     "metadata": {},
     "output_type": "execute_result"
    }
   ],
   "source": [
    "opt_valuar['JSON']"
   ]
  },
  {
   "cell_type": "markdown",
   "metadata": {},
   "source": [
    "Vemos que la prima de la opción que estamos tomando como referencia tiene una prima más baja que lo que entra en nuestros intervalos de confianza."
   ]
  },
  {
   "cell_type": "markdown",
   "metadata": {},
   "source": [
    "#### Simulación de precios mediante el histograma de los rendimientos"
   ]
  },
  {
   "cell_type": "code",
   "execution_count": 153,
   "metadata": {},
   "outputs": [],
   "source": [
    "freq, values = np.histogram(ret_msft-mu+r, bins=10000)\n",
    "prob = freq/np.sum(freq)\n",
    "\n",
    "ret = np.random.choice(values[1:], (ndays,nscen), p=prob)\n",
    "sim_ret_hist = pd.DataFrame(ret, index=dates)\n",
    "sim_closes_hist = S0*np.exp(sim_ret_hist.cumsum())\n",
    "\n",
    "strike = pd.DataFrame(K*np.ones([ndays,nscen]),index=dates)\n",
    "call_hist=pd.DataFrame({'Prima':np.exp(-r*ndays)*np.fmax(sim_closes_hist-strike,np.zeros([ndays,nscen])).T.mean()},index=dates)"
   ]
  },
  {
   "cell_type": "code",
   "execution_count": 154,
   "metadata": {},
   "outputs": [
    {
     "data": {
      "image/png": "[encoded data removed]",
      "text/plain": [
       "<Figure size 864x432 with 1 Axes>"
      ]
     },
     "metadata": {
      "needs_background": "light"
     },
     "output_type": "display_data"
    }
   ],
   "source": [
    "call_hist.plot(figsize=(12,6), title='Prima Opción Europea (Call)');"
   ]
  },
  {
   "cell_type": "code",
   "execution_count": 155,
   "metadata": {},
   "outputs": [
    {
     "data": {
      "text/plain": [
       "Prima    36.002542\n",
       "Name: 2022-06-17 00:00:00, dtype: float64"
      ]
     },
     "execution_count": 155,
     "metadata": {},
     "output_type": "execute_result"
    }
   ],
   "source": [
    "call_hist.iloc[-1]"
   ]
  },
  {
   "cell_type": "code",
   "execution_count": 156,
   "metadata": {},
   "outputs": [
    {
     "name": "stdout",
     "output_type": "stream",
     "text": [
      "(34.350274682397654, 37.65480920601951)\n"
     ]
    }
   ],
   "source": [
    "confianza = 0.95\n",
    "sigma_est = sim_closes_hist.iloc[-1].sem()\n",
    "mean_est = call_hist.iloc[-1].Prima\n",
    "# i1 = st.t.interval(confianza,nscen-1, loc=mean_est, scale=sigma_est)\n",
    "i2 = st.norm.interval(confianza, loc=mean_est, scale=sigma_est)\n",
    "print(i2)"
   ]
  },
  {
   "cell_type": "code",
   "execution_count": 157,
   "metadata": {},
   "outputs": [
    {
     "data": {
      "text/plain": [
       "23.29"
      ]
     },
     "execution_count": 157,
     "metadata": {},
     "output_type": "execute_result"
    }
   ],
   "source": [
    "opt_valuar['JSON']['lastPrice']"
   ]
  },
  {
   "cell_type": "markdown",
   "metadata": {},
   "source": [
    "Regresando al valor real de la opción vemos que en ambas soluciones estamos relativamente cerca del precio de la prima, por lo que consideraremos los resultados como confiables."
   ]
  },
  {
   "cell_type": "markdown",
   "metadata": {},
   "source": [
    "#### Comparando las dos simulaciones de la Opción Europea"
   ]
  },
  {
   "cell_type": "code",
   "execution_count": 158,
   "metadata": {},
   "outputs": [
    {
     "data": {
      "image/png": "[encoded data removed]",
      "text/plain": [
       "<Figure size 864x432 with 1 Axes>"
      ]
     },
     "metadata": {
      "needs_background": "light"
     },
     "output_type": "display_data"
    }
   ],
   "source": [
    "plt.figure(figsize=(12,6))\n",
    "plt.plot(call_nr.index, call_nr.Prima, label='Modelo Normal')\n",
    "plt.plot(call_hist.index, call_hist.Prima, label='Histograma Rend.')\n",
    "plt.title('Simulaciones Prima Opción Europea')\n",
    "plt.legend()\n",
    "plt.show()"
   ]
  },
  {
   "cell_type": "markdown",
   "metadata": {},
   "source": [
    "Podemos ver que ambas simulaciones de la opción europea son bastante similares, con una pequeña diferencia que puede ser despreciable."
   ]
  },
  {
   "cell_type": "markdown",
   "metadata": {},
   "source": [
    "### Opción Barrera Down and Out"
   ]
  },
  {
   "cell_type": "markdown",
   "metadata": {},
   "source": [
    "#### Simulación de precios con modelo normal de rendimientos"
   ]
  },
  {
   "cell_type": "markdown",
   "metadata": {},
   "source": [
    "En este caso vamos a definir la barrera en \\$230 porque parece ser su soporte desde inicios de este año y considero que hay una probabilidad muy baja de que rompa ese soporte."
   ]
  },
  {
   "cell_type": "code",
   "execution_count": 159,
   "metadata": {},
   "outputs": [],
   "source": [
    "B = 230\n",
    "I = (sim_closes > B).cumprod(axis=0) != 0\n",
    "call_bnr = pd.DataFrame({\"Prima\": np.exp(-r*ndays)*(I*np.fmax(sim_closes-strike,0)).mean(axis=1)},index=dates) "
   ]
  },
  {
   "cell_type": "code",
   "execution_count": 160,
   "metadata": {
    "scrolled": true
   },
   "outputs": [
    {
     "data": {
      "image/png": "[encoded data removed]",
      "text/plain": [
       "<Figure size 864x432 with 1 Axes>"
      ]
     },
     "metadata": {
      "needs_background": "light"
     },
     "output_type": "display_data"
    }
   ],
   "source": [
    "plt.figure(figsize=(12,6))\n",
    "plt.plot(call_bnr, label='Modelo Normal')\n",
    "plt.title('Prima Opción Barrera Down and Out')\n",
    "plt.legend()\n",
    "plt.show()"
   ]
  },
  {
   "cell_type": "code",
   "execution_count": 161,
   "metadata": {},
   "outputs": [
    {
     "data": {
      "text/plain": [
       "Prima    23.080862\n",
       "Name: 2022-06-17 00:00:00, dtype: float64"
      ]
     },
     "execution_count": 161,
     "metadata": {},
     "output_type": "execute_result"
    }
   ],
   "source": [
    "call_bnr.iloc[-1]"
   ]
  },
  {
   "cell_type": "code",
   "execution_count": 162,
   "metadata": {},
   "outputs": [
    {
     "name": "stdout",
     "output_type": "stream",
     "text": [
      "(21.481204272586634, 24.680518937728845)\n"
     ]
    }
   ],
   "source": [
    "confianza = 0.95\n",
    "sigma_est = sim_closes.iloc[-1].sem()\n",
    "mean_est = call_bnr.iloc[-1].Prima\n",
    "# i1 = st.t.interval(confianza,nscen-1, loc=mean_est, scale=sigma_est)\n",
    "i2 = st.norm.interval(confianza, loc=mean_est, scale=sigma_est)\n",
    "print(i2)"
   ]
  },
  {
   "cell_type": "markdown",
   "metadata": {},
   "source": [
    "#### Comparando con la prima de la opción europea simulada con modelo normal"
   ]
  },
  {
   "cell_type": "code",
   "execution_count": 163,
   "metadata": {
    "scrolled": true
   },
   "outputs": [
    {
     "data": {
      "image/png": "[encoded data removed]",
      "text/plain": [
       "<Figure size 864x432 with 1 Axes>"
      ]
     },
     "metadata": {
      "needs_background": "light"
     },
     "output_type": "display_data"
    }
   ],
   "source": [
    "plt.figure(figsize=(12,6))\n",
    "plt.plot(call_nr.index, call_nr.Prima, label='Prima Europea')\n",
    "plt.plot(call_bnr, label='Prima Down and out')\n",
    "plt.title('Simulaciones Modelo Normal')\n",
    "plt.legend()\n",
    "plt.show()"
   ]
  },
  {
   "cell_type": "markdown",
   "metadata": {},
   "source": [
    "#### Simulación de precios mediante histograma"
   ]
  },
  {
   "cell_type": "code",
   "execution_count": 164,
   "metadata": {},
   "outputs": [],
   "source": [
    "call_bhist = pd.DataFrame({\"Prima\": np.exp(-r*ndays)*(I*np.fmax(sim_closes_hist-strike,0)).mean(axis=1)},index=dates) "
   ]
  },
  {
   "cell_type": "code",
   "execution_count": 165,
   "metadata": {
    "scrolled": true
   },
   "outputs": [
    {
     "data": {
      "image/png": "[encoded data removed]",
      "text/plain": [
       "<Figure size 864x432 with 1 Axes>"
      ]
     },
     "metadata": {
      "needs_background": "light"
     },
     "output_type": "display_data"
    }
   ],
   "source": [
    "plt.figure(figsize=(12,6))\n",
    "plt.plot(call_bhist, label='Histograma')\n",
    "plt.title('Prima Opción Barrera Down and Out')\n",
    "plt.legend()\n",
    "plt.show()"
   ]
  },
  {
   "cell_type": "code",
   "execution_count": 166,
   "metadata": {},
   "outputs": [
    {
     "data": {
      "text/plain": [
       "Prima    9.589504\n",
       "Name: 2022-06-17 00:00:00, dtype: float64"
      ]
     },
     "execution_count": 166,
     "metadata": {},
     "output_type": "execute_result"
    }
   ],
   "source": [
    "call_bhist.iloc[-1]"
   ]
  },
  {
   "cell_type": "code",
   "execution_count": 167,
   "metadata": {},
   "outputs": [
    {
     "name": "stdout",
     "output_type": "stream",
     "text": [
      "(7.9372364223404785, 11.241770945962335)\n"
     ]
    }
   ],
   "source": [
    "confianza = 0.95\n",
    "sigma_est = sim_closes_hist.iloc[-1].sem()\n",
    "mean_est = call_bhist.iloc[-1].Prima\n",
    "i2 = st.norm.interval(confianza, loc=mean_est, scale=sigma_est)\n",
    "print(i2)"
   ]
  },
  {
   "cell_type": "markdown",
   "metadata": {},
   "source": [
    "#### Comparando con la prima de opción europea simulado mediante histogramas"
   ]
  },
  {
   "cell_type": "code",
   "execution_count": 168,
   "metadata": {
    "scrolled": true
   },
   "outputs": [
    {
     "data": {
      "image/png": "[encoded data removed]",
      "text/plain": [
       "<Figure size 864x432 with 1 Axes>"
      ]
     },
     "metadata": {
      "needs_background": "light"
     },
     "output_type": "display_data"
    }
   ],
   "source": [
    "plt.figure(figsize=(12,6))\n",
    "plt.plot(call_hist.index, call_hist.Prima, label='Prima Europea')\n",
    "plt.plot(call_bhist, label='Prima Down and out')\n",
    "plt.title('Simulaciones Mediante Histograma')\n",
    "plt.legend()\n",
    "plt.show()"
   ]
  },
  {
   "cell_type": "markdown",
   "metadata": {},
   "source": [
    "## OPCIÓN PUT"
   ]
  },
  {
   "cell_type": "code",
   "execution_count": 169,
   "metadata": {},
   "outputs": [
    {
     "data": {
      "text/html": [
       "<div>\n",
       "<style scoped>\n",
       "    .dataframe tbody tr th:only-of-type {\n",
       "        vertical-align: middle;\n",
       "    }\n",
       "\n",
       "    .dataframe tbody tr th {\n",
       "        vertical-align: top;\n",
       "    }\n",
       "\n",
       "    .dataframe thead th {\n",
       "        text-align: right;\n",
       "    }\n",
       "</style>\n",
       "<table border=\"1\" class=\"dataframe\">\n",
       "  <thead>\n",
       "    <tr style=\"text-align: right;\">\n",
       "      <th></th>\n",
       "      <th>Strike</th>\n",
       "      <th>Expiry</th>\n",
       "      <th>Type</th>\n",
       "      <th>Symbol</th>\n",
       "      <th>Last</th>\n",
       "      <th>Bid</th>\n",
       "      <th>Ask</th>\n",
       "      <th>Chg</th>\n",
       "      <th>PctChg</th>\n",
       "      <th>Vol</th>\n",
       "      <th>Open_Int</th>\n",
       "      <th>IV</th>\n",
       "      <th>Root</th>\n",
       "      <th>IsNonstandard</th>\n",
       "      <th>Underlying</th>\n",
       "      <th>Underlying_Price</th>\n",
       "      <th>Quote_Time</th>\n",
       "      <th>Last_Trade_Date</th>\n",
       "      <th>JSON</th>\n",
       "    </tr>\n",
       "  </thead>\n",
       "  <tbody>\n",
       "    <tr>\n",
       "      <th>17</th>\n",
       "      <td>80.0</td>\n",
       "      <td>2022-06-17</td>\n",
       "      <td>put</td>\n",
       "      <td>MSFT220617P00080000</td>\n",
       "      <td>0.46</td>\n",
       "      <td>0.41</td>\n",
       "      <td>0.55</td>\n",
       "      <td>-0.03</td>\n",
       "      <td>-6.122449</td>\n",
       "      <td>1.0</td>\n",
       "      <td>1756.0</td>\n",
       "      <td>0.518071</td>\n",
       "      <td>MSFT</td>\n",
       "      <td>False</td>\n",
       "      <td>MSFT</td>\n",
       "      <td>253.2685</td>\n",
       "      <td>2021-05-07 14:50:10</td>\n",
       "      <td>2021-04-30 17:07:30</td>\n",
       "      <td>{'contractSymbol': 'MSFT220617P00080000', 'str...</td>\n",
       "    </tr>\n",
       "    <tr>\n",
       "      <th>27</th>\n",
       "      <td>85.0</td>\n",
       "      <td>2022-06-17</td>\n",
       "      <td>put</td>\n",
       "      <td>MSFT220617P00085000</td>\n",
       "      <td>0.55</td>\n",
       "      <td>0.48</td>\n",
       "      <td>0.62</td>\n",
       "      <td>0.00</td>\n",
       "      <td>0.000000</td>\n",
       "      <td>50.0</td>\n",
       "      <td>629.0</td>\n",
       "      <td>0.502446</td>\n",
       "      <td>MSFT</td>\n",
       "      <td>False</td>\n",
       "      <td>MSFT</td>\n",
       "      <td>253.2685</td>\n",
       "      <td>2021-05-07 14:50:10</td>\n",
       "      <td>2021-05-03 13:49:43</td>\n",
       "      <td>{'contractSymbol': 'MSFT220617P00085000', 'str...</td>\n",
       "    </tr>\n",
       "    <tr>\n",
       "      <th>37</th>\n",
       "      <td>90.0</td>\n",
       "      <td>2022-06-17</td>\n",
       "      <td>put</td>\n",
       "      <td>MSFT220617P00090000</td>\n",
       "      <td>0.64</td>\n",
       "      <td>0.56</td>\n",
       "      <td>0.70</td>\n",
       "      <td>0.00</td>\n",
       "      <td>0.000000</td>\n",
       "      <td>1.0</td>\n",
       "      <td>440.0</td>\n",
       "      <td>0.496343</td>\n",
       "      <td>MSFT</td>\n",
       "      <td>False</td>\n",
       "      <td>MSFT</td>\n",
       "      <td>253.2685</td>\n",
       "      <td>2021-05-07 14:50:10</td>\n",
       "      <td>2021-04-28 18:52:27</td>\n",
       "      <td>{'contractSymbol': 'MSFT220617P00090000', 'str...</td>\n",
       "    </tr>\n",
       "    <tr>\n",
       "      <th>47</th>\n",
       "      <td>95.0</td>\n",
       "      <td>2022-06-17</td>\n",
       "      <td>put</td>\n",
       "      <td>MSFT220617P00095000</td>\n",
       "      <td>0.78</td>\n",
       "      <td>0.65</td>\n",
       "      <td>0.79</td>\n",
       "      <td>0.00</td>\n",
       "      <td>0.000000</td>\n",
       "      <td>1.0</td>\n",
       "      <td>57.0</td>\n",
       "      <td>0.481695</td>\n",
       "      <td>MSFT</td>\n",
       "      <td>False</td>\n",
       "      <td>MSFT</td>\n",
       "      <td>253.2685</td>\n",
       "      <td>2021-05-07 14:50:10</td>\n",
       "      <td>2021-04-28 18:52:12</td>\n",
       "      <td>{'contractSymbol': 'MSFT220617P00095000', 'str...</td>\n",
       "    </tr>\n",
       "    <tr>\n",
       "      <th>59</th>\n",
       "      <td>100.0</td>\n",
       "      <td>2022-06-17</td>\n",
       "      <td>put</td>\n",
       "      <td>MSFT220617P00100000</td>\n",
       "      <td>0.81</td>\n",
       "      <td>0.75</td>\n",
       "      <td>0.88</td>\n",
       "      <td>0.01</td>\n",
       "      <td>1.249999</td>\n",
       "      <td>9.0</td>\n",
       "      <td>0.0</td>\n",
       "      <td>0.466802</td>\n",
       "      <td>MSFT</td>\n",
       "      <td>False</td>\n",
       "      <td>MSFT</td>\n",
       "      <td>253.2685</td>\n",
       "      <td>2021-05-07 14:50:10</td>\n",
       "      <td>2021-05-07 14:23:47</td>\n",
       "      <td>{'contractSymbol': 'MSFT220617P00100000', 'str...</td>\n",
       "    </tr>\n",
       "    <tr>\n",
       "      <th>...</th>\n",
       "      <td>...</td>\n",
       "      <td>...</td>\n",
       "      <td>...</td>\n",
       "      <td>...</td>\n",
       "      <td>...</td>\n",
       "      <td>...</td>\n",
       "      <td>...</td>\n",
       "      <td>...</td>\n",
       "      <td>...</td>\n",
       "      <td>...</td>\n",
       "      <td>...</td>\n",
       "      <td>...</td>\n",
       "      <td>...</td>\n",
       "      <td>...</td>\n",
       "      <td>...</td>\n",
       "      <td>...</td>\n",
       "      <td>...</td>\n",
       "      <td>...</td>\n",
       "      <td>...</td>\n",
       "    </tr>\n",
       "    <tr>\n",
       "      <th>1716</th>\n",
       "      <td>345.0</td>\n",
       "      <td>2022-06-17</td>\n",
       "      <td>put</td>\n",
       "      <td>MSFT220617P00345000</td>\n",
       "      <td>116.20</td>\n",
       "      <td>87.50</td>\n",
       "      <td>92.00</td>\n",
       "      <td>0.00</td>\n",
       "      <td>0.000000</td>\n",
       "      <td>NaN</td>\n",
       "      <td>5.0</td>\n",
       "      <td>0.141244</td>\n",
       "      <td>MSFT</td>\n",
       "      <td>False</td>\n",
       "      <td>MSFT</td>\n",
       "      <td>253.2685</td>\n",
       "      <td>2021-05-07 14:50:10</td>\n",
       "      <td>2021-03-25 15:49:09</td>\n",
       "      <td>{'contractSymbol': 'MSFT220617P00345000', 'str...</td>\n",
       "    </tr>\n",
       "    <tr>\n",
       "      <th>1740</th>\n",
       "      <td>350.0</td>\n",
       "      <td>2022-06-17</td>\n",
       "      <td>put</td>\n",
       "      <td>MSFT220617P00350000</td>\n",
       "      <td>116.80</td>\n",
       "      <td>101.70</td>\n",
       "      <td>103.00</td>\n",
       "      <td>0.00</td>\n",
       "      <td>0.000000</td>\n",
       "      <td>6.0</td>\n",
       "      <td>78.0</td>\n",
       "      <td>0.283424</td>\n",
       "      <td>MSFT</td>\n",
       "      <td>False</td>\n",
       "      <td>MSFT</td>\n",
       "      <td>253.2685</td>\n",
       "      <td>2021-05-07 14:50:10</td>\n",
       "      <td>2021-03-31 15:54:56</td>\n",
       "      <td>{'contractSymbol': 'MSFT220617P00350000', 'str...</td>\n",
       "    </tr>\n",
       "    <tr>\n",
       "      <th>1758</th>\n",
       "      <td>355.0</td>\n",
       "      <td>2022-06-17</td>\n",
       "      <td>put</td>\n",
       "      <td>MSFT220617P00355000</td>\n",
       "      <td>97.55</td>\n",
       "      <td>105.05</td>\n",
       "      <td>106.00</td>\n",
       "      <td>0.00</td>\n",
       "      <td>0.000000</td>\n",
       "      <td>2.0</td>\n",
       "      <td>15.0</td>\n",
       "      <td>0.259834</td>\n",
       "      <td>MSFT</td>\n",
       "      <td>False</td>\n",
       "      <td>MSFT</td>\n",
       "      <td>253.2685</td>\n",
       "      <td>2021-05-07 14:50:10</td>\n",
       "      <td>2021-04-27 19:38:43</td>\n",
       "      <td>{'contractSymbol': 'MSFT220617P00355000', 'str...</td>\n",
       "    </tr>\n",
       "    <tr>\n",
       "      <th>1783</th>\n",
       "      <td>360.0</td>\n",
       "      <td>2022-06-17</td>\n",
       "      <td>put</td>\n",
       "      <td>MSFT220617P00360000</td>\n",
       "      <td>108.21</td>\n",
       "      <td>109.70</td>\n",
       "      <td>110.65</td>\n",
       "      <td>0.00</td>\n",
       "      <td>0.000000</td>\n",
       "      <td>4.0</td>\n",
       "      <td>0.0</td>\n",
       "      <td>0.260902</td>\n",
       "      <td>MSFT</td>\n",
       "      <td>False</td>\n",
       "      <td>MSFT</td>\n",
       "      <td>253.2685</td>\n",
       "      <td>2021-05-07 14:50:10</td>\n",
       "      <td>2021-04-28 13:34:26</td>\n",
       "      <td>{'contractSymbol': 'MSFT220617P00360000', 'str...</td>\n",
       "    </tr>\n",
       "    <tr>\n",
       "      <th>1799</th>\n",
       "      <td>365.0</td>\n",
       "      <td>2022-06-17</td>\n",
       "      <td>put</td>\n",
       "      <td>MSFT220617P00365000</td>\n",
       "      <td>114.90</td>\n",
       "      <td>114.60</td>\n",
       "      <td>115.45</td>\n",
       "      <td>-6.32</td>\n",
       "      <td>-5.213661</td>\n",
       "      <td>103.0</td>\n",
       "      <td>171.0</td>\n",
       "      <td>0.264198</td>\n",
       "      <td>MSFT</td>\n",
       "      <td>False</td>\n",
       "      <td>MSFT</td>\n",
       "      <td>253.2685</td>\n",
       "      <td>2021-05-07 14:50:10</td>\n",
       "      <td>2021-05-07 14:14:15</td>\n",
       "      <td>{'contractSymbol': 'MSFT220617P00365000', 'str...</td>\n",
       "    </tr>\n",
       "  </tbody>\n",
       "</table>\n",
       "<p>58 rows × 19 columns</p>\n",
       "</div>"
      ],
      "text/plain": [
       "      Strike     Expiry Type               Symbol    Last     Bid     Ask  \\\n",
       "17      80.0 2022-06-17  put  MSFT220617P00080000    0.46    0.41    0.55   \n",
       "27      85.0 2022-06-17  put  MSFT220617P00085000    0.55    0.48    0.62   \n",
       "37      90.0 2022-06-17  put  MSFT220617P00090000    0.64    0.56    0.70   \n",
       "47      95.0 2022-06-17  put  MSFT220617P00095000    0.78    0.65    0.79   \n",
       "59     100.0 2022-06-17  put  MSFT220617P00100000    0.81    0.75    0.88   \n",
       "...      ...        ...  ...                  ...     ...     ...     ...   \n",
       "1716   345.0 2022-06-17  put  MSFT220617P00345000  116.20   87.50   92.00   \n",
       "1740   350.0 2022-06-17  put  MSFT220617P00350000  116.80  101.70  103.00   \n",
       "1758   355.0 2022-06-17  put  MSFT220617P00355000   97.55  105.05  106.00   \n",
       "1783   360.0 2022-06-17  put  MSFT220617P00360000  108.21  109.70  110.65   \n",
       "1799   365.0 2022-06-17  put  MSFT220617P00365000  114.90  114.60  115.45   \n",
       "\n",
       "       Chg    PctChg    Vol  Open_Int        IV  Root  IsNonstandard  \\\n",
       "17   -0.03 -6.122449    1.0    1756.0  0.518071  MSFT          False   \n",
       "27    0.00  0.000000   50.0     629.0  0.502446  MSFT          False   \n",
       "37    0.00  0.000000    1.0     440.0  0.496343  MSFT          False   \n",
       "47    0.00  0.000000    1.0      57.0  0.481695  MSFT          False   \n",
       "59    0.01  1.249999    9.0       0.0  0.466802  MSFT          False   \n",
       "...    ...       ...    ...       ...       ...   ...            ...   \n",
       "1716  0.00  0.000000    NaN       5.0  0.141244  MSFT          False   \n",
       "1740  0.00  0.000000    6.0      78.0  0.283424  MSFT          False   \n",
       "1758  0.00  0.000000    2.0      15.0  0.259834  MSFT          False   \n",
       "1783  0.00  0.000000    4.0       0.0  0.260902  MSFT          False   \n",
       "1799 -6.32 -5.213661  103.0     171.0  0.264198  MSFT          False   \n",
       "\n",
       "     Underlying  Underlying_Price          Quote_Time     Last_Trade_Date  \\\n",
       "17         MSFT          253.2685 2021-05-07 14:50:10 2021-04-30 17:07:30   \n",
       "27         MSFT          253.2685 2021-05-07 14:50:10 2021-05-03 13:49:43   \n",
       "37         MSFT          253.2685 2021-05-07 14:50:10 2021-04-28 18:52:27   \n",
       "47         MSFT          253.2685 2021-05-07 14:50:10 2021-04-28 18:52:12   \n",
       "59         MSFT          253.2685 2021-05-07 14:50:10 2021-05-07 14:23:47   \n",
       "...         ...               ...                 ...                 ...   \n",
       "1716       MSFT          253.2685 2021-05-07 14:50:10 2021-03-25 15:49:09   \n",
       "1740       MSFT          253.2685 2021-05-07 14:50:10 2021-03-31 15:54:56   \n",
       "1758       MSFT          253.2685 2021-05-07 14:50:10 2021-04-27 19:38:43   \n",
       "1783       MSFT          253.2685 2021-05-07 14:50:10 2021-04-28 13:34:26   \n",
       "1799       MSFT          253.2685 2021-05-07 14:50:10 2021-05-07 14:14:15   \n",
       "\n",
       "                                                   JSON  \n",
       "17    {'contractSymbol': 'MSFT220617P00080000', 'str...  \n",
       "27    {'contractSymbol': 'MSFT220617P00085000', 'str...  \n",
       "37    {'contractSymbol': 'MSFT220617P00090000', 'str...  \n",
       "47    {'contractSymbol': 'MSFT220617P00095000', 'str...  \n",
       "59    {'contractSymbol': 'MSFT220617P00100000', 'str...  \n",
       "...                                                 ...  \n",
       "1716  {'contractSymbol': 'MSFT220617P00345000', 'str...  \n",
       "1740  {'contractSymbol': 'MSFT220617P00350000', 'str...  \n",
       "1758  {'contractSymbol': 'MSFT220617P00355000', 'str...  \n",
       "1783  {'contractSymbol': 'MSFT220617P00360000', 'str...  \n",
       "1799  {'contractSymbol': 'MSFT220617P00365000', 'str...  \n",
       "\n",
       "[58 rows x 19 columns]"
      ]
     },
     "execution_count": 169,
     "metadata": {},
     "output_type": "execute_result"
    }
   ],
   "source": [
    "opt_deseada = msft_opt.loc[(msft_opt.Type=='put') & (msft_opt.Expiry=='2022-06-17')]\n",
    "opt_deseada"
   ]
  },
  {
   "cell_type": "code",
   "execution_count": 170,
   "metadata": {},
   "outputs": [
    {
     "data": {
      "image/png": "[encoded data removed]",
      "text/plain": [
       "<Figure size 864x432 with 1 Axes>"
      ]
     },
     "metadata": {
      "needs_background": "light"
     },
     "output_type": "display_data"
    }
   ],
   "source": [
    "ax = opt_deseada.set_index('Strike').loc[:, 'IV'].plot(figsize=(12,6))\n",
    "ax.axvline(opt_deseada.Underlying_Price.iloc[0], color='g');"
   ]
  },
  {
   "cell_type": "markdown",
   "metadata": {},
   "source": [
    "En este caso buscaremos un put in the money (con strike mayor a 250) para junio del siguiente año, como el activo tiene una tendencia alcista debemos definir nuestro strike de tal forma que a la fecha de expiración, el precio spot esté dentro de la zona de ejercicio, considerando que va a estar aumentando de precio este activo elegiremos un strike de \\$270."
   ]
  },
  {
   "cell_type": "code",
   "execution_count": 171,
   "metadata": {},
   "outputs": [
    {
     "data": {
      "text/html": [
       "<div>\n",
       "<style scoped>\n",
       "    .dataframe tbody tr th:only-of-type {\n",
       "        vertical-align: middle;\n",
       "    }\n",
       "\n",
       "    .dataframe tbody tr th {\n",
       "        vertical-align: top;\n",
       "    }\n",
       "\n",
       "    .dataframe thead th {\n",
       "        text-align: right;\n",
       "    }\n",
       "</style>\n",
       "<table border=\"1\" class=\"dataframe\">\n",
       "  <thead>\n",
       "    <tr style=\"text-align: right;\">\n",
       "      <th></th>\n",
       "      <th>Strike</th>\n",
       "      <th>Expiry</th>\n",
       "      <th>Type</th>\n",
       "      <th>Symbol</th>\n",
       "      <th>Last</th>\n",
       "      <th>Bid</th>\n",
       "      <th>Ask</th>\n",
       "      <th>Chg</th>\n",
       "      <th>PctChg</th>\n",
       "      <th>Vol</th>\n",
       "      <th>Open_Int</th>\n",
       "      <th>IV</th>\n",
       "      <th>Root</th>\n",
       "      <th>IsNonstandard</th>\n",
       "      <th>Underlying</th>\n",
       "      <th>Underlying_Price</th>\n",
       "      <th>Quote_Time</th>\n",
       "      <th>Last_Trade_Date</th>\n",
       "      <th>JSON</th>\n",
       "    </tr>\n",
       "  </thead>\n",
       "  <tbody>\n",
       "    <tr>\n",
       "      <th>1241</th>\n",
       "      <td>270.0</td>\n",
       "      <td>2022-06-17</td>\n",
       "      <td>put</td>\n",
       "      <td>MSFT220617P00270000</td>\n",
       "      <td>36.91</td>\n",
       "      <td>36.4</td>\n",
       "      <td>37.4</td>\n",
       "      <td>0.0</td>\n",
       "      <td>0.0</td>\n",
       "      <td>1.0</td>\n",
       "      <td>4007.0</td>\n",
       "      <td>0.257362</td>\n",
       "      <td>MSFT</td>\n",
       "      <td>False</td>\n",
       "      <td>MSFT</td>\n",
       "      <td>253.2685</td>\n",
       "      <td>2021-05-07 14:50:10</td>\n",
       "      <td>2021-04-28 13:43:17</td>\n",
       "      <td>{'contractSymbol': 'MSFT220617P00270000', 'str...</td>\n",
       "    </tr>\n",
       "  </tbody>\n",
       "</table>\n",
       "</div>"
      ],
      "text/plain": [
       "      Strike     Expiry Type               Symbol   Last   Bid   Ask  Chg  \\\n",
       "1241   270.0 2022-06-17  put  MSFT220617P00270000  36.91  36.4  37.4  0.0   \n",
       "\n",
       "      PctChg  Vol  Open_Int        IV  Root  IsNonstandard Underlying  \\\n",
       "1241     0.0  1.0    4007.0  0.257362  MSFT          False       MSFT   \n",
       "\n",
       "      Underlying_Price          Quote_Time     Last_Trade_Date  \\\n",
       "1241          253.2685 2021-05-07 14:50:10 2021-04-28 13:43:17   \n",
       "\n",
       "                                                   JSON  \n",
       "1241  {'contractSymbol': 'MSFT220617P00270000', 'str...  "
      ]
     },
     "execution_count": 171,
     "metadata": {},
     "output_type": "execute_result"
    }
   ],
   "source": [
    "opt_deseada = msft_opt.loc[(msft_opt.Type=='put') & (msft_opt.Expiry=='2022-06-17') & (msft_opt.Strike==270)]\n",
    "opt_deseada"
   ]
  },
  {
   "cell_type": "code",
   "execution_count": 172,
   "metadata": {},
   "outputs": [
    {
     "data": {
      "text/plain": [
       "Strike                                                            270\n",
       "Expiry                                            2022-06-17 00:00:00\n",
       "Type                                                              put\n",
       "Symbol                                            MSFT220617P00270000\n",
       "Last                                                            36.91\n",
       "                                          ...                        \n",
       "Underlying                                                       MSFT\n",
       "Underlying_Price                                              253.268\n",
       "Quote_Time                                        2021-05-07 14:50:10\n",
       "Last_Trade_Date                                   2021-04-28 13:43:17\n",
       "JSON                {'contractSymbol': 'MSFT220617P00270000', 'str...\n",
       "Name: 1241, Length: 19, dtype: object"
      ]
     },
     "execution_count": 172,
     "metadata": {},
     "output_type": "execute_result"
    }
   ],
   "source": [
    "opt_valuar = opt_deseada.loc[list(opt_deseada.index)[0]]\n",
    "opt_valuar"
   ]
  },
  {
   "cell_type": "code",
   "execution_count": 173,
   "metadata": {},
   "outputs": [
    {
     "data": {
      "text/plain": [
       "{'contractSymbol': 'MSFT220617P00270000',\n",
       " 'strike': 270.0,\n",
       " 'currency': 'USD',\n",
       " 'lastPrice': 36.91,\n",
       " 'change': 0.0,\n",
       " 'percentChange': 0.0,\n",
       " 'volume': 1,\n",
       " 'openInterest': 4007,\n",
       " 'bid': 36.4,\n",
       " 'ask': 37.4,\n",
       " 'contractSize': 'REGULAR',\n",
       " 'expiration': 1655424000,\n",
       " 'lastTradeDate': 1619617397,\n",
       " 'impliedVolatility': 0.25736216278076174,\n",
       " 'inTheMoney': True}"
      ]
     },
     "execution_count": 173,
     "metadata": {},
     "output_type": "execute_result"
    }
   ],
   "source": [
    "opt_valuar['JSON']"
   ]
  },
  {
   "cell_type": "markdown",
   "metadata": {},
   "source": [
    "### Opción Europea"
   ]
  },
  {
   "cell_type": "markdown",
   "metadata": {},
   "source": [
    "#### Simulación de precios con modelo normal de rendimientos"
   ]
  },
  {
   "cell_type": "code",
   "execution_count": 174,
   "metadata": {},
   "outputs": [
    {
     "data": {
      "text/plain": [
       "(0.0013399773029961533, 0.017974828814643663, 1.388888888888889e-06)"
      ]
     },
     "execution_count": 174,
     "metadata": {},
     "output_type": "execute_result"
    }
   ],
   "source": [
    "mu = ret_msft.mean()\n",
    "sigma = ret_msft.std()\n",
    "r = (0.05/100)/360\n",
    "mu, sigma, r"
   ]
  },
  {
   "cell_type": "code",
   "execution_count": 175,
   "metadata": {},
   "outputs": [
    {
     "data": {
      "image/png": "[encoded data removed]",
      "text/plain": [
       "<Figure size 864x432 with 1 Axes>"
      ]
     },
     "metadata": {
      "needs_background": "light"
     },
     "output_type": "display_data"
    }
   ],
   "source": [
    "# Datos de la opción y del día de actual\n",
    "today = pd.Timestamp(date.today())\n",
    "expiry = opt_valuar.Expiry\n",
    "\n",
    "# Fechas desde el día de hoy hasta la fecha de cierre del contrato (considerando unicamente los días hábiles)\n",
    "dates = pd.date_range(start=today, end=expiry, freq='B')\n",
    "\n",
    "# Cantidad de escenarios a simular para el método de montecarlo\n",
    "ndays = len(dates)\n",
    "nscen = 10000\n",
    "\n",
    "K = opt_valuar.Strike\n",
    "S0 = closes_msft.iloc[-1]\n",
    "sim_ret = pd.DataFrame(sigma*np.random.randn(ndays,nscen)+r,index=dates)\n",
    "sim_closes = S0*np.exp(sim_ret.cumsum())\n",
    "\n",
    "strike = K\n",
    "put_nr=pd.DataFrame({'Prima':np.exp(-r*ndays)*np.fmax(strike - sim_closes, 0).mean(axis=1)}, index=dates)\n",
    "put_nr.plot(figsize=(12,6), title='Prima Opción Europea (Put)');"
   ]
  },
  {
   "cell_type": "code",
   "execution_count": 176,
   "metadata": {},
   "outputs": [
    {
     "data": {
      "text/plain": [
       "Prima    34.082556\n",
       "Name: 2022-06-17 00:00:00, dtype: float64"
      ]
     },
     "execution_count": 176,
     "metadata": {},
     "output_type": "execute_result"
    }
   ],
   "source": [
    "put_nr.iloc[-1]"
   ]
  },
  {
   "cell_type": "code",
   "execution_count": 177,
   "metadata": {},
   "outputs": [
    {
     "name": "stdout",
     "output_type": "stream",
     "text": [
      "(32.461400519392434, 35.70371151224219)\n"
     ]
    }
   ],
   "source": [
    "confianza = 0.95\n",
    "sigma_est = sim_closes.iloc[-1].sem()\n",
    "mean_est = put_nr.iloc[-1].Prima\n",
    "i1 = st.norm.interval(confianza, loc=mean_est, scale=sigma_est)\n",
    "print(i1)"
   ]
  },
  {
   "cell_type": "code",
   "execution_count": 178,
   "metadata": {},
   "outputs": [
    {
     "data": {
      "text/plain": [
       "{'contractSymbol': 'MSFT220617P00270000',\n",
       " 'strike': 270.0,\n",
       " 'currency': 'USD',\n",
       " 'lastPrice': 36.91,\n",
       " 'change': 0.0,\n",
       " 'percentChange': 0.0,\n",
       " 'volume': 1,\n",
       " 'openInterest': 4007,\n",
       " 'bid': 36.4,\n",
       " 'ask': 37.4,\n",
       " 'contractSize': 'REGULAR',\n",
       " 'expiration': 1655424000,\n",
       " 'lastTradeDate': 1619617397,\n",
       " 'impliedVolatility': 0.25736216278076174,\n",
       " 'inTheMoney': True}"
      ]
     },
     "execution_count": 178,
     "metadata": {},
     "output_type": "execute_result"
    }
   ],
   "source": [
    "opt_valuar['JSON']"
   ]
  },
  {
   "cell_type": "markdown",
   "metadata": {},
   "source": [
    "Vemos que la prima de la opción que estamos tomando como referencia tiene una prima un poco más alta, pero al ser una diferencia muy pequeña podemos considerar los rangos como válidos."
   ]
  },
  {
   "cell_type": "markdown",
   "metadata": {},
   "source": [
    "#### Simulación de precios mediante el histograma de los rendimientos"
   ]
  },
  {
   "cell_type": "code",
   "execution_count": 179,
   "metadata": {},
   "outputs": [],
   "source": [
    "freq, values = np.histogram(ret_msft-mu+r, bins=10000)\n",
    "prob = freq/np.sum(freq)\n",
    "\n",
    "ret = np.random.choice(values[1:], (ndays,nscen), p=prob)\n",
    "sim_ret_hist = pd.DataFrame(ret, index=dates)\n",
    "sim_closes_hist = S0*np.exp(sim_ret_hist.cumsum())\n",
    "\n",
    "strike = pd.DataFrame(K*np.ones([ndays,nscen]),index=dates)\n",
    "put_hist=pd.DataFrame({'Prima':np.exp(-r*ndays)*np.fmax(strike - sim_closes_hist,np.zeros([ndays,nscen])).T.mean()},index=dates)"
   ]
  },
  {
   "cell_type": "code",
   "execution_count": 180,
   "metadata": {},
   "outputs": [
    {
     "data": {
      "image/png": "[encoded data removed]",
      "text/plain": [
       "<Figure size 864x432 with 1 Axes>"
      ]
     },
     "metadata": {
      "needs_background": "light"
     },
     "output_type": "display_data"
    }
   ],
   "source": [
    "put_hist.plot(figsize=(12,6), title='Prima Opción Europea (Put)');"
   ]
  },
  {
   "cell_type": "code",
   "execution_count": 181,
   "metadata": {},
   "outputs": [
    {
     "data": {
      "text/plain": [
       "Prima    34.4485\n",
       "Name: 2022-06-17 00:00:00, dtype: float64"
      ]
     },
     "execution_count": 181,
     "metadata": {},
     "output_type": "execute_result"
    }
   ],
   "source": [
    "put_hist.iloc[-1]"
   ]
  },
  {
   "cell_type": "code",
   "execution_count": 182,
   "metadata": {},
   "outputs": [
    {
     "name": "stdout",
     "output_type": "stream",
     "text": [
      "(32.78972231817812, 36.10727799933734)\n"
     ]
    }
   ],
   "source": [
    "confianza = 0.95\n",
    "sigma_est = sim_closes_hist.iloc[-1].sem()\n",
    "mean_est = put_hist.iloc[-1].Prima\n",
    "# i1 = st.t.interval(confianza,nscen-1, loc=mean_est, scale=sigma_est)\n",
    "i2 = st.norm.interval(confianza, loc=mean_est, scale=sigma_est)\n",
    "print(i2)"
   ]
  },
  {
   "cell_type": "code",
   "execution_count": 183,
   "metadata": {},
   "outputs": [
    {
     "data": {
      "text/plain": [
       "36.91"
      ]
     },
     "execution_count": 183,
     "metadata": {},
     "output_type": "execute_result"
    }
   ],
   "source": [
    "opt_valuar['JSON']['lastPrice']"
   ]
  },
  {
   "cell_type": "markdown",
   "metadata": {},
   "source": [
    "De igual forma que con el modelo normal, vemos que la prima real se acerca bastante a los intervalos de confianza que tenemos por lo que los consideraremos como válidos"
   ]
  },
  {
   "cell_type": "markdown",
   "metadata": {},
   "source": [
    "#### Comparando las dos simulaciones de la Opción Europea"
   ]
  },
  {
   "cell_type": "code",
   "execution_count": 184,
   "metadata": {},
   "outputs": [
    {
     "data": {
      "image/png": "[encoded data removed]",
      "text/plain": [
       "<Figure size 864x432 with 1 Axes>"
      ]
     },
     "metadata": {
      "needs_background": "light"
     },
     "output_type": "display_data"
    }
   ],
   "source": [
    "plt.figure(figsize=(12,6))\n",
    "plt.plot(put_nr.index, put_nr.Prima, label='Modelo Normal')\n",
    "plt.plot(put_hist.index, put_hist.Prima, label='Histograma Rend.')\n",
    "plt.title('Simulaciones Prima Opción Europea Put')\n",
    "plt.legend()\n",
    "plt.show()"
   ]
  },
  {
   "cell_type": "markdown",
   "metadata": {},
   "source": [
    "Podemos ver que ambas simulaciones de la opción europea son bastante similares para aproximar los valores de las primas."
   ]
  },
  {
   "cell_type": "markdown",
   "metadata": {},
   "source": [
    "### Opción Barrera Up and Out"
   ]
  },
  {
   "cell_type": "markdown",
   "metadata": {},
   "source": [
    "#### Simulación de precios con modelo normal de rendimientos"
   ]
  },
  {
   "cell_type": "markdown",
   "metadata": {},
   "source": [
    "En este caso vamos a definir la barrera en \\$280 porque considero que este margen de 10 usd entre el strike y la barrera es suficiente para ejercerla, sin tener que pagar una prima elevada como en la opción europea."
   ]
  },
  {
   "cell_type": "code",
   "execution_count": 217,
   "metadata": {},
   "outputs": [],
   "source": [
    "B = 280\n",
    "I = (sim_closes < B).cumprod(axis=0) != 0\n",
    "put_buo = pd.DataFrame({\"Prima\": np.exp(-r*ndays)*(I*np.fmax(strike - sim_closes,0)).mean(axis=1)},index=dates) "
   ]
  },
  {
   "cell_type": "code",
   "execution_count": 218,
   "metadata": {
    "scrolled": true
   },
   "outputs": [
    {
     "data": {
      "image/png": "[encoded data removed]",
      "text/plain": [
       "<Figure size 864x432 with 1 Axes>"
      ]
     },
     "metadata": {
      "needs_background": "light"
     },
     "output_type": "display_data"
    }
   ],
   "source": [
    "plt.figure(figsize=(12,6))\n",
    "plt.plot(put_buo, label='Modelo Normal')\n",
    "plt.title('Prima Opción Barrera Up and Out')\n",
    "plt.legend()\n",
    "plt.show()"
   ]
  },
  {
   "cell_type": "code",
   "execution_count": 219,
   "metadata": {},
   "outputs": [
    {
     "data": {
      "text/plain": [
       "Prima    21.008321\n",
       "Name: 2022-06-17 00:00:00, dtype: float64"
      ]
     },
     "execution_count": 219,
     "metadata": {},
     "output_type": "execute_result"
    }
   ],
   "source": [
    "put_buo.iloc[-1]"
   ]
  },
  {
   "cell_type": "code",
   "execution_count": 220,
   "metadata": {},
   "outputs": [
    {
     "name": "stdout",
     "output_type": "stream",
     "text": [
      "(19.387165782796956, 22.629476775646708)\n"
     ]
    }
   ],
   "source": [
    "confianza = 0.95\n",
    "sigma_est = sim_closes.iloc[-1].sem()\n",
    "mean_est = put_buo.iloc[-1].Prima\n",
    "# i1 = st.t.interval(confianza,nscen-1, loc=mean_est, scale=sigma_est)\n",
    "i2 = st.norm.interval(confianza, loc=mean_est, scale=sigma_est)\n",
    "print(i2)"
   ]
  },
  {
   "cell_type": "markdown",
   "metadata": {},
   "source": [
    "#### Comparando con la prima de la opción europea simulada con modelo normal"
   ]
  },
  {
   "cell_type": "code",
   "execution_count": 221,
   "metadata": {
    "scrolled": true
   },
   "outputs": [
    {
     "data": {
      "image/png": "[encoded data removed]",
      "text/plain": [
       "<Figure size 864x432 with 1 Axes>"
      ]
     },
     "metadata": {
      "needs_background": "light"
     },
     "output_type": "display_data"
    }
   ],
   "source": [
    "plt.figure(figsize=(12,6))\n",
    "plt.plot(put_nr.index, put_nr.Prima, label='Prima Europea')\n",
    "plt.plot(put_buo, label='Prima Down and out')\n",
    "plt.title('Simulaciones Modelo Normal Put')\n",
    "plt.legend()\n",
    "plt.show()"
   ]
  },
  {
   "cell_type": "markdown",
   "metadata": {},
   "source": [
    "#### Simulación de precios mediante histograma"
   ]
  },
  {
   "cell_type": "code",
   "execution_count": 222,
   "metadata": {},
   "outputs": [],
   "source": [
    "I = (sim_closes_hist < B).cumprod(axis=0) != 0\n",
    "put_bhist = pd.DataFrame({\"Prima\": np.exp(-r*ndays)*(I*np.fmax(strike-sim_closes_hist,0)).mean(axis=1)},index=dates) "
   ]
  },
  {
   "cell_type": "code",
   "execution_count": 223,
   "metadata": {
    "scrolled": true
   },
   "outputs": [
    {
     "data": {
      "image/png": "[encoded data removed]",
      "text/plain": [
       "<Figure size 864x432 with 1 Axes>"
      ]
     },
     "metadata": {
      "needs_background": "light"
     },
     "output_type": "display_data"
    }
   ],
   "source": [
    "plt.figure(figsize=(12,6))\n",
    "plt.plot(put_bhist, label='Histograma')\n",
    "plt.title('Prima Opción Barrera Up and Out')\n",
    "plt.legend()\n",
    "plt.show()"
   ]
  },
  {
   "cell_type": "code",
   "execution_count": 224,
   "metadata": {},
   "outputs": [
    {
     "data": {
      "text/plain": [
       "Prima    21.662735\n",
       "Name: 2022-06-17 00:00:00, dtype: float64"
      ]
     },
     "execution_count": 224,
     "metadata": {},
     "output_type": "execute_result"
    }
   ],
   "source": [
    "put_bhist.iloc[-1]"
   ]
  },
  {
   "cell_type": "code",
   "execution_count": 225,
   "metadata": {},
   "outputs": [
    {
     "name": "stdout",
     "output_type": "stream",
     "text": [
      "(20.003957162451723, 23.32151284361095)\n"
     ]
    }
   ],
   "source": [
    "confianza = 0.95\n",
    "sigma_est = sim_closes_hist.iloc[-1].sem()\n",
    "mean_est = put_bhist.iloc[-1].Prima\n",
    "i2 = st.norm.interval(confianza, loc=mean_est, scale=sigma_est)\n",
    "print(i2)"
   ]
  },
  {
   "cell_type": "markdown",
   "metadata": {},
   "source": [
    "#### Comparando con la prima de opción europea simulado mediante histogramas"
   ]
  },
  {
   "cell_type": "code",
   "execution_count": 226,
   "metadata": {
    "scrolled": true
   },
   "outputs": [
    {
     "data": {
      "image/png": "[encoded data removed]",
      "text/plain": [
       "<Figure size 864x432 with 1 Axes>"
      ]
     },
     "metadata": {
      "needs_background": "light"
     },
     "output_type": "display_data"
    }
   ],
   "source": [
    "plt.figure(figsize=(12,6))\n",
    "plt.plot(put_hist.index, put_hist.Prima, label='Prima Europea')\n",
    "plt.plot(put_bhist, label='Prima Up and out')\n",
    "plt.title('Simulaciones Mediante Histograma')\n",
    "plt.legend()\n",
    "plt.show()"
   ]
  },
  {
   "cell_type": "markdown",
   "metadata": {},
   "source": [
    "Aquí podemos ver que en las primas de las opciones barrera up and out son bastante bajas en comparación con las europeas porque estamos asumiendo un mayor riesgo al considerar escenarios que nos desactivan la opción, y como tenemos una barrera a \\$10 del strike, nos da una ventana un poco cerrada para ejercerla, recordando que entre más arriba esté nuestra barrera, más convergería el precio de la prima de la opción barrera con la europea."
   ]
  },
  {
   "cell_type": "markdown",
   "metadata": {},
   "source": [
    "## Eduardo Loza"
   ]
  },
  {
   "cell_type": "code",
   "execution_count": null,
   "metadata": {},
   "outputs": [],
   "source": []
  },
  {
   "cell_type": "code",
   "execution_count": null,
   "metadata": {},
   "outputs": [],
   "source": []
  },
  {
   "cell_type": "code",
   "execution_count": null,
   "metadata": {},
   "outputs": [],
   "source": []
  },
  {
   "cell_type": "code",
   "execution_count": null,
   "metadata": {},
   "outputs": [],
   "source": []
  },
  {
   "cell_type": "code",
   "execution_count": null,
   "metadata": {},
   "outputs": [],
   "source": []
  },
  {
   "cell_type": "code",
   "execution_count": null,
   "metadata": {},
   "outputs": [],
   "source": []
  },
  {
   "cell_type": "code",
   "execution_count": null,
   "metadata": {},
   "outputs": [],
   "source": []
  },
  {
   "cell_type": "markdown",
   "metadata": {},
   "source": [
    "Enlace al repositorio: <a href=\"https://github.com/if722749/ProyectoConjunto_LuisGomez_EduardoLoza\">https://github.com/if722749/ProyectoConjunto_LuisGomez_EduardoLoza</a>"
   ]
  }
 ],
 "metadata": {
  "kernelspec": {
   "display_name": "Python 3",
   "language": "python",
   "name": "python3"
  },
  "language_info": {
   "codemirror_mode": {
    "name": "ipython",
    "version": 3
   },
   "file_extension": ".py",
   "mimetype": "text/x-python",
   "name": "python",
   "nbconvert_exporter": "python",
   "pygments_lexer": "ipython3",
   "version": "3.8.3"
  }
 },
 "nbformat": 4,
 "nbformat_minor": 4
}
